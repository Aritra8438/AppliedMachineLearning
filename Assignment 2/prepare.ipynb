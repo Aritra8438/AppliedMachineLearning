{
 "cells": [
  {
   "cell_type": "markdown",
   "metadata": {},
   "source": [
    "## Setting up `DVC` and preprocessing data"
   ]
  },
  {
   "cell_type": "markdown",
   "metadata": {},
   "source": [
    "\n",
    "### Initializing the `DVC`"
   ]
  },
  {
   "cell_type": "code",
   "execution_count": null,
   "metadata": {},
   "outputs": [
    {
     "name": "stdout",
     "output_type": "stream",
     "text": [
      "Initialized DVC repository.\n",
      "\n",
      "You can now commit the changes to git.\n",
      "\n",
      "+---------------------------------------------------------------------+\n",
      "|                                                                     |\n",
      "|        DVC has enabled anonymous aggregate usage analytics.         |\n",
      "|     Read the analytics documentation (and how to opt-out) here:     |\n",
      "|             <https://dvc.org/doc/user-guide/analytics>              |\n",
      "|                                                                     |\n",
      "+---------------------------------------------------------------------+\n",
      "\n",
      "What's next?\n",
      "------------\n",
      "- Check out the documentation: <https://dvc.org/doc>\n",
      "- Get help and share ideas: <https://dvc.org/chat>\n",
      "- Star us on GitHub: <https://github.com/iterative/dvc>\n"
     ]
    }
   ],
   "source": [
    "# Initialize a new DVC project in the parent directory of the current directory\n",
    "%cd ..\n",
    "!dvc init\n",
    "%cd \"Assignment 2\""
   ]
  },
  {
   "cell_type": "markdown",
   "metadata": {},
   "source": [
    "### Setting up remote storage for `dvc`\n",
    "\n",
    "1. DVC remote storage acts like Git remote but for data files\n",
    "2. Data files are stored separately from code in Google Drive\n",
    "3. `.dvc` files in Git track which version of data to retrieve\n",
    "\n",
    "\n",
    "For Google Drive remote storage:\n",
    "\n",
    "`DVC` remote can be configured with:\n",
    "- `dvc remote add <remote-name> <folder>` - Sets up Google Drive as remote\n",
    "- `dvc remote modify <remote-name> gdrive_client_id <client_id>`\n",
    "- `dvc remote modify <remote-name> gdrive_client_secret <client_secret>`\n",
    "\n",
    "(Follow [these](https://dvc.org/doc/user-guide/data-management/remote-storage/google-drive) steps to get `id-secret` pair.)\n",
    "\n",
    "The above code will generate a `.config` file in the `.dvc` repo.\n",
    "\n",
    "The gdrive remote storage can be accessed [here](https://drive.google.com/drive/folders/1o-BE-tYaAi1a-_dChnH4jB1nwjIUL5cT?usp=sharing). "
   ]
  },
  {
   "cell_type": "code",
   "execution_count": null,
   "metadata": {},
   "outputs": [],
   "source": [
    "!dvc remote add myremote gdrive://0AIac4JZqHhKmUk9PDA\n",
    "!dvc remote modify gdrive_remote gdrive_client_id \"<cliet_id>\"\n",
    "!dvc remote modify gdrive_remote gdrive_client_secret \"<client_secret>\""
   ]
  },
  {
   "cell_type": "markdown",
   "metadata": {},
   "source": [
    "### Importing necessary libraries "
   ]
  },
  {
   "cell_type": "code",
   "execution_count": null,
   "metadata": {},
   "outputs": [],
   "source": [
    "import pandas as pd\n",
    "import matplotlib.pyplot as plt\n",
    "from sklearn.model_selection import train_test_split\n",
    "from prettytable import PrettyTable\n",
    "\n",
    "import warnings\n",
    "warnings.filterwarnings(\"ignore\")"
   ]
  },
  {
   "cell_type": "markdown",
   "metadata": {},
   "source": [
    "### Defining `utility functions`"
   ]
  },
  {
   "cell_type": "code",
   "execution_count": null,
   "metadata": {},
   "outputs": [],
   "source": [
    "def read_data(file_path, names, sep='\\t'):\n",
    "    \"\"\"\n",
    "    Read data from a file into a pandas DataFrame.\n",
    "    \n",
    "    Parameters:\n",
    "        file_path (str): Path to the data file\n",
    "        sep (str): Separator used in the file (default: '\\t')\n",
    "        column_names (list): List of column names (default: ['category', 'message'])\n",
    "    \n",
    "    Returns:\n",
    "        pandas.DataFrame: DataFrame containing the SMS data\n",
    "    \"\"\"\n",
    "        \n",
    "    data = pd.read_csv(\n",
    "        file_path,\n",
    "        sep=sep,\n",
    "        names=names\n",
    "    )\n",
    "    \n",
    "    return data\n",
    "\n",
    "\n",
    "def save_data(df, path):\n",
    "    \"\"\"\n",
    "    Save DataFrame to CSV file.\n",
    "    \n",
    "    Parameters:\n",
    "        df (DataFrame): Data to save\n",
    "        path (str): File path where data will be saved\n",
    "    \"\"\"\n",
    "    try:\n",
    "        df.to_csv(path, index=False)\n",
    "        print(f\"Successfully saved {path}\")\n",
    "    except Exception as e:\n",
    "        print(f\"Error saving file {path}: {str(e)}\")\n",
    "\n",
    "\n",
    "def split_data(data, train_pct=0.7, val_pct=0.1, test_pct=0.2, random_state=42):\n",
    "    \"\"\"\n",
    "    Split data into train, validation and test sets based on percentage inputs\n",
    "    \n",
    "    Parameters:\n",
    "        data (DataFrame): Input DataFrame to split\n",
    "        train_pct (float): Percentage of data for training (default 0.7)\n",
    "        val_pct (float): Percentage of data for validation (default 0.1)\n",
    "        test_pct (float): Percentage of data for testing (default 0.2)\n",
    "        random_state (int): Random seed for reproducibility\n",
    "        \n",
    "    Returns:\n",
    "        tuple: (train_data, val_data, test_data)\n",
    "    \"\"\"\n",
    "    assert round(train_pct + val_pct + test_pct, 3) == 1.0, \"Percentages must sum to 1\"\n",
    "    \n",
    "    train_data, temp_data = train_test_split(\n",
    "        data, \n",
    "        train_size=train_pct,\n",
    "        random_state=random_state,\n",
    "    )\n",
    "    \n",
    "    val_ratio = val_pct / (val_pct + test_pct)\n",
    "    val_data, test_data = train_test_split(\n",
    "        temp_data,\n",
    "        train_size=val_ratio,\n",
    "        random_state=random_state,\n",
    "    )\n",
    "    \n",
    "    print(f\"Training data: {len(train_data)} samples ({train_pct*100:.1f}%)\")\n",
    "    print(f\"Validation data: {len(val_data)} samples ({val_pct*100:.1f}%)\")\n",
    "    print(f\"Test data: {len(test_data)} samples ({test_pct*100:.1f}%)\")\n",
    "    \n",
    "    return train_data, val_data, test_data\n",
    "\n",
    "\n",
    "def create_dataset_counts_table(train_data, val_data, test_data):\n",
    "    \"\"\"\n",
    "    Create a pretty table showing spam/ham counts for each dataset\n",
    "    \n",
    "    Parameters:\n",
    "        train_data (DataFrame): Training dataset\n",
    "        val_data (DataFrame): Validation dataset\n",
    "        test_data (DataFrame): Test dataset\n",
    "        \n",
    "    Returns:\n",
    "        PrettyTable: Formatted table with dataset statistics\n",
    "    \"\"\"\n",
    "    table = PrettyTable()\n",
    "    table.field_names = [\"Dataset\", \"Ham\", \"Spam\", \"Total\"]\n",
    "    \n",
    "    for name, dataset in [(\"Training\", train_data), (\"Validation\", val_data), (\"Test\", test_data)]:\n",
    "        counts = dataset['category'].value_counts()\n",
    "        table.add_row([\n",
    "            name,\n",
    "            counts.get('ham', 0),\n",
    "            counts.get('spam', 0),\n",
    "            len(dataset)\n",
    "        ])\n",
    "    \n",
    "    return table"
   ]
  },
  {
   "cell_type": "markdown",
   "metadata": {},
   "source": [
    "### Reading the data"
   ]
  },
  {
   "cell_type": "code",
   "execution_count": 59,
   "metadata": {},
   "outputs": [],
   "source": [
    "data = read_data('sms-spam-collection/SMSSpamCollection', names=['category', 'message'])"
   ]
  },
  {
   "cell_type": "markdown",
   "metadata": {},
   "source": [
    "### Saving the raw data"
   ]
  },
  {
   "cell_type": "code",
   "execution_count": 25,
   "metadata": {},
   "outputs": [
    {
     "name": "stdout",
     "output_type": "stream",
     "text": [
      "Successfully saved sms-spam-collection/raw_data.csv\n"
     ]
    }
   ],
   "source": [
    "save_data(data, 'sms-spam-collection/raw_data.csv')"
   ]
  },
  {
   "cell_type": "markdown",
   "metadata": {},
   "source": [
    "## How DVC works\n",
    "\n",
    "DVC tracks data files separately from code. When we commit changes:\n",
    "\n",
    "1. First, we add the files to be tracked with `dvc add`.\n",
    "2. This generates a `.dvc` file which contains metadata about the data.\n",
    "3. The `.dvc` file gets committed to Git while the data is managed by DVC and added to the `.gitignore`.\n",
    "4. `dvc commit` ensures the DVC cache is updated with latest changes.\n",
    "5. `dvc push` uploads the data to the configured remote storage."
   ]
  },
  {
   "cell_type": "markdown",
   "metadata": {},
   "source": [
    "#### Committing a file with `dvc`"
   ]
  },
  {
   "cell_type": "code",
   "execution_count": 26,
   "metadata": {},
   "outputs": [],
   "source": [
    "!dvc commit sms-spam-collection/raw_data.csv"
   ]
  },
  {
   "cell_type": "markdown",
   "metadata": {},
   "source": [
    "#### Committing the added `.dvc` file to `Git` "
   ]
  },
  {
   "cell_type": "code",
   "execution_count": null,
   "metadata": {},
   "outputs": [],
   "source": [
    "!git add sms-spam-collection/raw_data.csv.dvc\n",
    "!git commit -m \"Committing the tracked `.dvc` file for `raw_data.csv`\""
   ]
  },
  {
   "cell_type": "markdown",
   "metadata": {},
   "source": [
    "### Setting up `Version0` for the data split\n",
    "\n",
    "- Train-val-test splitting using random state `42`.\n",
    "- Adding and committing those splits using `dvc`.\n",
    "- Pushing the files to `remote storage`\n",
    "- Adding the `.dvc` files to git and then committing.\n",
    "- Creating the `spam-ham` count table."
   ]
  },
  {
   "cell_type": "code",
   "execution_count": 36,
   "metadata": {},
   "outputs": [
    {
     "name": "stdout",
     "output_type": "stream",
     "text": [
      "Training data: 3900 samples (70.0%)\n",
      "Validation data: 557 samples (10.0%)\n",
      "Test data: 1115 samples (20.0%)\n",
      "Successfully saved sms-spam-collection/train.csv\n",
      "Successfully saved sms-spam-collection/val.csv\n",
      "Successfully saved sms-spam-collection/test.csv\n"
     ]
    }
   ],
   "source": [
    "train_data, val_data, test_data = split_data(data, random_state=42)\n",
    "save_data(train_data, 'sms-spam-collection/train.csv')\n",
    "save_data(val_data, 'sms-spam-collection/val.csv')\n",
    "save_data(test_data, 'sms-spam-collection/test.csv')"
   ]
  },
  {
   "cell_type": "code",
   "execution_count": null,
   "metadata": {},
   "outputs": [
    {
     "name": "stdout",
     "output_type": "stream",
     "text": [
      "\n",
      "To track the changes with git, run:\n",
      "\n",
      "\tgit add 'sms-spam-collection\\.gitignore' 'sms-spam-collection\\val.csv.dvc' 'sms-spam-collection\\test.csv.dvc' 'sms-spam-collection\\train.csv.dvc'\n",
      "\n",
      "To enable auto staging, run:\n",
      "\n",
      "\tdvc config core.autostage true\n"
     ]
    },
    {
     "name": "stderr",
     "output_type": "stream",
     "text": [
      "⠋ Checking graph\n",
      "\n"
     ]
    }
   ],
   "source": [
    "!dvc add sms-spam-collection/train.csv sms-spam-collection/val.csv sms-spam-collection/test.csv"
   ]
  },
  {
   "cell_type": "code",
   "execution_count": 38,
   "metadata": {},
   "outputs": [],
   "source": [
    "!dvc commit sms-spam-collection/train.csv sms-spam-collection/val.csv sms-spam-collection/test.csv"
   ]
  },
  {
   "cell_type": "code",
   "execution_count": 46,
   "metadata": {},
   "outputs": [
    {
     "name": "stdout",
     "output_type": "stream",
     "text": [
      "Your browser has been opened to visit:\n",
      "\n",
      "    https://accounts.google.com/o/oauth2/auth?client_id=517335322439-k799651rp5hmlceqhlr6koh1l0hc65je.apps.googleusercontent.com&redirect_uri=http%3A%2F%2Flocalhost%3A8080%2F&scope=https%3A%2F%2Fwww.googleapis.com%2Fauth%2Fdrive+https%3A%2F%2Fwww.googleapis.com%2Fauth%2Fdrive.appdata&access_type=offline&response_type=code&approval_prompt=force\n",
      "\n",
      "Authentication successful.\n",
      "3 files pushed\n"
     ]
    },
    {
     "name": "stderr",
     "output_type": "stream",
     "text": [
      "D:\\GitHub\\AppliedMachineLearning\\venv\\lib\\site-packages\\oauth2client\\_helpers.py:255: UserWarning: Cannot access C:\\Users\\Aritra Majumder\\AppData\\Local\\pydrive2fs\\Cache\\517335322439-k799651rp5hmlceqhlr6koh1l0hc65je.apps.googleusercontent.com\\default.json: No such file or directory\n",
      "  warnings.warn(_MISSING_FILE_MESSAGE.format(filename))\n"
     ]
    }
   ],
   "source": [
    "!dvc push"
   ]
  },
  {
   "cell_type": "code",
   "execution_count": 60,
   "metadata": {},
   "outputs": [
    {
     "name": "stdout",
     "output_type": "stream",
     "text": [
      "[main d016042] Committing train, validation and test datasets: V0\n",
      " 3 files changed, 15 insertions(+)\n",
      " create mode 100644 Assignment 2/sms-spam-collection/test.csv.dvc\n",
      " create mode 100644 Assignment 2/sms-spam-collection/train.csv.dvc\n",
      " create mode 100644 Assignment 2/sms-spam-collection/val.csv.dvc\n"
     ]
    }
   ],
   "source": [
    "!git add sms-spam-collection/train.csv.dvc sms-spam-collection/val.csv.dvc sms-spam-collection/test.csv.dvc\n",
    "!git commit -m \"Committing train, validation and test datasets: V0\""
   ]
  },
  {
   "cell_type": "code",
   "execution_count": 51,
   "metadata": {},
   "outputs": [
    {
     "data": {
      "text/html": [
       "<table>\n",
       "    <thead>\n",
       "        <tr>\n",
       "            <th>Dataset</th>\n",
       "            <th>Ham</th>\n",
       "            <th>Spam</th>\n",
       "            <th>Total</th>\n",
       "        </tr>\n",
       "    </thead>\n",
       "    <tbody>\n",
       "        <tr>\n",
       "            <td>Training</td>\n",
       "            <td>3377</td>\n",
       "            <td>523</td>\n",
       "            <td>3900</td>\n",
       "        </tr>\n",
       "        <tr>\n",
       "            <td>Validation</td>\n",
       "            <td>482</td>\n",
       "            <td>75</td>\n",
       "            <td>557</td>\n",
       "        </tr>\n",
       "        <tr>\n",
       "            <td>Test</td>\n",
       "            <td>966</td>\n",
       "            <td>149</td>\n",
       "            <td>1115</td>\n",
       "        </tr>\n",
       "    </tbody>\n",
       "</table>"
      ],
      "text/plain": [
       "+------------+------+------+-------+\n",
       "|  Dataset   | Ham  | Spam | Total |\n",
       "+------------+------+------+-------+\n",
       "|  Training  | 3377 | 523  |  3900 |\n",
       "| Validation | 482  |  75  |  557  |\n",
       "|    Test    | 966  | 149  |  1115 |\n",
       "+------------+------+------+-------+"
      ]
     },
     "execution_count": 51,
     "metadata": {},
     "output_type": "execute_result"
    }
   ],
   "source": [
    "create_dataset_counts_table(train_data, val_data, test_data)"
   ]
  },
  {
   "cell_type": "markdown",
   "metadata": {},
   "source": [
    "### Setting up `Version1` for the data split\n",
    "\n",
    "Followed the same workflow as above."
   ]
  },
  {
   "cell_type": "code",
   "execution_count": 61,
   "metadata": {},
   "outputs": [
    {
     "name": "stdout",
     "output_type": "stream",
     "text": [
      "Training data: 3900 samples (70.0%)\n",
      "Validation data: 557 samples (10.0%)\n",
      "Test data: 1115 samples (20.0%)\n",
      "Successfully saved sms-spam-collection/train.csv\n",
      "Successfully saved sms-spam-collection/val.csv\n",
      "Successfully saved sms-spam-collection/test.csv\n"
     ]
    }
   ],
   "source": [
    "train_data, val_data, test_data = split_data(data, random_state=52)\n",
    "save_data(train_data, 'sms-spam-collection/train.csv')\n",
    "save_data(val_data, 'sms-spam-collection/val.csv')\n",
    "save_data(test_data, 'sms-spam-collection/test.csv')"
   ]
  },
  {
   "cell_type": "code",
   "execution_count": 62,
   "metadata": {},
   "outputs": [
    {
     "data": {
      "text/html": [
       "<table>\n",
       "    <thead>\n",
       "        <tr>\n",
       "            <th>Dataset</th>\n",
       "            <th>Ham</th>\n",
       "            <th>Spam</th>\n",
       "            <th>Total</th>\n",
       "        </tr>\n",
       "    </thead>\n",
       "    <tbody>\n",
       "        <tr>\n",
       "            <td>Training</td>\n",
       "            <td>3381</td>\n",
       "            <td>519</td>\n",
       "            <td>3900</td>\n",
       "        </tr>\n",
       "        <tr>\n",
       "            <td>Validation</td>\n",
       "            <td>479</td>\n",
       "            <td>78</td>\n",
       "            <td>557</td>\n",
       "        </tr>\n",
       "        <tr>\n",
       "            <td>Test</td>\n",
       "            <td>965</td>\n",
       "            <td>150</td>\n",
       "            <td>1115</td>\n",
       "        </tr>\n",
       "    </tbody>\n",
       "</table>"
      ],
      "text/plain": [
       "+------------+------+------+-------+\n",
       "|  Dataset   | Ham  | Spam | Total |\n",
       "+------------+------+------+-------+\n",
       "|  Training  | 3381 | 519  |  3900 |\n",
       "| Validation | 479  |  78  |  557  |\n",
       "|    Test    | 965  | 150  |  1115 |\n",
       "+------------+------+------+-------+"
      ]
     },
     "execution_count": 62,
     "metadata": {},
     "output_type": "execute_result"
    }
   ],
   "source": [
    "create_dataset_counts_table(train_data, val_data, test_data)"
   ]
  },
  {
   "cell_type": "code",
   "execution_count": 63,
   "metadata": {},
   "outputs": [
    {
     "name": "stdout",
     "output_type": "stream",
     "text": [
      "\n",
      "To track the changes with git, run:\n",
      "\n",
      "\tgit add 'sms-spam-collection\\val.csv.dvc' 'sms-spam-collection\\train.csv.dvc' 'sms-spam-collection\\test.csv.dvc'\n",
      "\n",
      "To enable auto staging, run:\n",
      "\n",
      "\tdvc config core.autostage true\n"
     ]
    },
    {
     "name": "stderr",
     "output_type": "stream",
     "text": [
      "⠋ Checking graph\n",
      "\n"
     ]
    }
   ],
   "source": [
    "!dvc add sms-spam-collection/train.csv sms-spam-collection/val.csv sms-spam-collection/test.csv"
   ]
  },
  {
   "cell_type": "code",
   "execution_count": 64,
   "metadata": {},
   "outputs": [],
   "source": [
    "!dvc commit sms-spam-collection/train.csv sms-spam-collection/val.csv sms-spam-collection/test.csv"
   ]
  },
  {
   "cell_type": "code",
   "execution_count": 66,
   "metadata": {},
   "outputs": [
    {
     "name": "stdout",
     "output_type": "stream",
     "text": [
      "3 files pushed\n"
     ]
    }
   ],
   "source": [
    "!dvc push"
   ]
  },
  {
   "cell_type": "code",
   "execution_count": null,
   "metadata": {},
   "outputs": [
    {
     "name": "stdout",
     "output_type": "stream",
     "text": [
      "[main eb249d8] Committing train, validation and test datasets: V1\n",
      " 3 files changed, 6 insertions(+), 6 deletions(-)\n"
     ]
    }
   ],
   "source": [
    "!git add sms-spam-collection/train.csv.dvc sms-spam-collection/val.csv.dvc sms-spam-collection/test.csv.dvc\n",
    "!git commit -m \"Committing train, validation and test datasets: V1\""
   ]
  },
  {
   "cell_type": "code",
   "execution_count": null,
   "metadata": {},
   "outputs": [
    {
     "data": {
      "text/html": [
       "<table>\n",
       "    <thead>\n",
       "        <tr>\n",
       "            <th>Dataset</th>\n",
       "            <th>Ham</th>\n",
       "            <th>Spam</th>\n",
       "            <th>Total</th>\n",
       "        </tr>\n",
       "    </thead>\n",
       "    <tbody>\n",
       "        <tr>\n",
       "            <td>Training</td>\n",
       "            <td>3381</td>\n",
       "            <td>519</td>\n",
       "            <td>3900</td>\n",
       "        </tr>\n",
       "        <tr>\n",
       "            <td>Validation</td>\n",
       "            <td>479</td>\n",
       "            <td>78</td>\n",
       "            <td>557</td>\n",
       "        </tr>\n",
       "        <tr>\n",
       "            <td>Test</td>\n",
       "            <td>965</td>\n",
       "            <td>150</td>\n",
       "            <td>1115</td>\n",
       "        </tr>\n",
       "    </tbody>\n",
       "</table>"
      ],
      "text/plain": [
       "+------------+------+------+-------+\n",
       "|  Dataset   | Ham  | Spam | Total |\n",
       "+------------+------+------+-------+\n",
       "|  Training  | 3381 | 519  |  3900 |\n",
       "| Validation | 479  |  78  |  557  |\n",
       "|    Test    | 965  | 150  |  1115 |\n",
       "+------------+------+------+-------+"
      ]
     },
     "metadata": {},
     "output_type": "display_data"
    }
   ],
   "source": [
    "create_dataset_counts_table(train_data, val_data, test_data)"
   ]
  },
  {
   "cell_type": "markdown",
   "metadata": {},
   "source": [
    "### Checking out previous `dvc` version"
   ]
  },
  {
   "cell_type": "markdown",
   "metadata": {},
   "source": [
    "#### Showing `Git` commits"
   ]
  },
  {
   "cell_type": "code",
   "execution_count": 67,
   "metadata": {},
   "outputs": [
    {
     "name": "stdout",
     "output_type": "stream",
     "text": [
      "eb249d8 Committing train, validation and test datasets: V1\n",
      "d016042 Committing train, validation and test datasets: V0\n",
      "8766195 Committing the tracked `.dvc` file for `raw_data.csv`\n",
      "c8e3d88 Writing functions to remove repetitive codes\n",
      "4fe49aa Update README.md\n",
      "3896694 add `train.ipynb`\n",
      "f4f0af5 Add `prepare.ipynb`\n",
      "d68819d add `readme` and processed datasets.\n",
      "0cc82ef add `.gitignore` and `requirements`\n",
      "4b32ac1 Create README.md\n"
     ]
    }
   ],
   "source": [
    "!git log --oneline"
   ]
  },
  {
   "cell_type": "markdown",
   "metadata": {},
   "source": [
    "#### Checking out the previous version `V0`"
   ]
  },
  {
   "cell_type": "code",
   "execution_count": 70,
   "metadata": {},
   "outputs": [
    {
     "name": "stdout",
     "output_type": "stream",
     "text": [
      "M\t.gitignore\n",
      "M\tREADME.md\n",
      "M\trequirements.txt\n"
     ]
    },
    {
     "name": "stderr",
     "output_type": "stream",
     "text": [
      "Note: switching to 'd016042'.\n",
      "\n",
      "You are in 'detached HEAD' state. You can look around, make experimental\n",
      "changes and commit them, and you can discard any commits you make in this\n",
      "state without impacting any branches by switching back to a branch.\n",
      "\n",
      "If you want to create a new branch to retain commits you create, you may\n",
      "do so (now or later) by using -c with the switch command. Example:\n",
      "\n",
      "  git switch -c <new-branch-name>\n",
      "\n",
      "Or undo this operation with:\n",
      "\n",
      "  git switch -\n",
      "\n",
      "Turn off this advice by setting config variable advice.detachedHead to false\n",
      "\n",
      "HEAD is now at d016042 Committing train, validation and test datasets: V0\n"
     ]
    }
   ],
   "source": [
    "!git checkout d016042"
   ]
  },
  {
   "cell_type": "markdown",
   "metadata": {},
   "source": [
    "#### Reflect changes in files using `dvc checkout`"
   ]
  },
  {
   "cell_type": "code",
   "execution_count": 71,
   "metadata": {},
   "outputs": [
    {
     "name": "stdout",
     "output_type": "stream",
     "text": [
      "M       sms-spam-collection\\train.csv\n",
      "M       sms-spam-collection\\test.csv\n",
      "M       sms-spam-collection\\val.csv\n"
     ]
    }
   ],
   "source": [
    "!dvc checkout"
   ]
  },
  {
   "cell_type": "markdown",
   "metadata": {},
   "source": [
    "#### Load the dataset and view the `spam-ham` count"
   ]
  },
  {
   "cell_type": "code",
   "execution_count": null,
   "metadata": {},
   "outputs": [],
   "source": [
    "train_data = read_data('sms-spam-collection/train.csv', names=['category', 'message'], sep=',')\n",
    "val_data = read_data('sms-spam-collection/val.csv', names=['category', 'message'], sep=',')\n",
    "test_data = read_data('sms-spam-collection/test.csv', names=['category', 'message'], sep=',')"
   ]
  },
  {
   "cell_type": "code",
   "execution_count": 76,
   "metadata": {},
   "outputs": [
    {
     "data": {
      "text/html": [
       "<table>\n",
       "    <thead>\n",
       "        <tr>\n",
       "            <th>Dataset</th>\n",
       "            <th>Ham</th>\n",
       "            <th>Spam</th>\n",
       "            <th>Total</th>\n",
       "        </tr>\n",
       "    </thead>\n",
       "    <tbody>\n",
       "        <tr>\n",
       "            <td>Training</td>\n",
       "            <td>3377</td>\n",
       "            <td>523</td>\n",
       "            <td>3901</td>\n",
       "        </tr>\n",
       "        <tr>\n",
       "            <td>Validation</td>\n",
       "            <td>482</td>\n",
       "            <td>75</td>\n",
       "            <td>558</td>\n",
       "        </tr>\n",
       "        <tr>\n",
       "            <td>Test</td>\n",
       "            <td>966</td>\n",
       "            <td>149</td>\n",
       "            <td>1116</td>\n",
       "        </tr>\n",
       "    </tbody>\n",
       "</table>"
      ],
      "text/plain": [
       "+------------+------+------+-------+\n",
       "|  Dataset   | Ham  | Spam | Total |\n",
       "+------------+------+------+-------+\n",
       "|  Training  | 3377 | 523  |  3901 |\n",
       "| Validation | 482  |  75  |  558  |\n",
       "|    Test    | 966  | 149  |  1116 |\n",
       "+------------+------+------+-------+"
      ]
     },
     "execution_count": 76,
     "metadata": {},
     "output_type": "execute_result"
    }
   ],
   "source": [
    "create_dataset_counts_table(train_data, val_data, test_data)"
   ]
  },
  {
   "cell_type": "markdown",
   "metadata": {},
   "source": [
    "#### Note that, this table is the same as the `Version0` table.\n",
    "\n",
    "This way, we can checkout to any `git commits` and then checkout `dvc` to extract data from that version/commit without pushing large files to github.\n",
    "\n",
    "Checking out to the most recent version."
   ]
  },
  {
   "cell_type": "code",
   "execution_count": 1,
   "metadata": {},
   "outputs": [
    {
     "name": "stdout",
     "output_type": "stream",
     "text": [
      "M\t.gitignore\n",
      "M\tREADME.md\n",
      "M\trequirements.txt\n"
     ]
    },
    {
     "name": "stderr",
     "output_type": "stream",
     "text": [
      "HEAD is now at eb249d8 Committing train, validation and test datasets: V1\n"
     ]
    }
   ],
   "source": [
    "!git checkout eb249d8"
   ]
  }
 ],
 "metadata": {
  "kernelspec": {
   "display_name": "venv",
   "language": "python",
   "name": "python3"
  },
  "language_info": {
   "codemirror_mode": {
    "name": "ipython",
    "version": 3
   },
   "file_extension": ".py",
   "mimetype": "text/x-python",
   "name": "python",
   "nbconvert_exporter": "python",
   "pygments_lexer": "ipython3",
   "version": "3.10.11"
  }
 },
 "nbformat": 4,
 "nbformat_minor": 2
}
