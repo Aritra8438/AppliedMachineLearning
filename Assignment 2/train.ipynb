{
 "cells": [
  {
   "cell_type": "markdown",
   "metadata": {},
   "source": [
    "## Adding `MLFlow`"
   ]
  },
  {
   "cell_type": "markdown",
   "metadata": {},
   "source": [
    "### Import necessary modules"
   ]
  },
  {
   "cell_type": "code",
   "execution_count": 33,
   "metadata": {},
   "outputs": [],
   "source": [
    "import nltk\n",
    "import string\n",
    "from nltk.corpus import stopwords\n",
    "import pandas as pd\n",
    "import matplotlib.pyplot as plt\n",
    "from sklearn.feature_extraction.text import TfidfVectorizer\n",
    "from sklearn.linear_model import LogisticRegression\n",
    "from sklearn.tree import DecisionTreeClassifier\n",
    "from sklearn.ensemble import RandomForestClassifier\n",
    "from sklearn.svm import SVC\n",
    "from sklearn.model_selection import GridSearchCV\n",
    "from sklearn.metrics import precision_recall_curve, auc\n",
    "import mlflow\n",
    "import mlflow.sklearn\n",
    "import warnings\n",
    "import prettytable\n",
    "\n",
    "# Filter warnings\n",
    "warnings.filterwarnings('ignore')"
   ]
  },
  {
   "cell_type": "markdown",
   "metadata": {},
   "source": [
    "### Load the data"
   ]
  },
  {
   "cell_type": "code",
   "execution_count": 7,
   "metadata": {},
   "outputs": [],
   "source": [
    "train_df = pd.read_csv('sms-spam-collection/train.csv')\n",
    "val_df = pd.read_csv('sms-spam-collection/val.csv')\n",
    "test_df = pd.read_csv('sms-spam-collection/test.csv')"
   ]
  },
  {
   "cell_type": "code",
   "execution_count": 8,
   "metadata": {},
   "outputs": [],
   "source": [
    "train_df['category'] = (train_df['category'] == 'spam').astype(int)\n",
    "test_df['category'] = (test_df['category'] == 'spam').astype(int)\n",
    "val_df['category'] = (val_df['category'] == 'spam').astype(int)\n"
   ]
  },
  {
   "cell_type": "markdown",
   "metadata": {},
   "source": [
    "##### Drop rows with `missing values`"
   ]
  },
  {
   "cell_type": "code",
   "execution_count": 9,
   "metadata": {},
   "outputs": [],
   "source": [
    "train_df.dropna(inplace=True)\n",
    "val_df.dropna(inplace=True)\n",
    "test_df.dropna(inplace=True)"
   ]
  },
  {
   "cell_type": "markdown",
   "metadata": {},
   "source": [
    "##### Merging `train` and `val` set."
   ]
  },
  {
   "cell_type": "code",
   "execution_count": 10,
   "metadata": {},
   "outputs": [],
   "source": [
    "train_df = pd.concat([train_df, val_df])"
   ]
  },
  {
   "cell_type": "markdown",
   "metadata": {},
   "source": [
    "## Text processing"
   ]
  },
  {
   "cell_type": "code",
   "execution_count": 11,
   "metadata": {},
   "outputs": [],
   "source": [
    "def process_text(text):\n",
    "    text = text.lower()\n",
    "    words = nltk.word_tokenize(text)\n",
    "\n",
    "    processed_text = [\n",
    "        word for word in words \n",
    "        if (word.isalnum() \n",
    "            and word not in stopwords.words('english') \n",
    "            and word not in string.punctuation)\n",
    "    ]\n",
    "    \n",
    "    return ' '.join(processed_text)\n",
    "\n",
    "train_df['processed_message'] = train_df['message'].apply(process_text)\n",
    "test_df['processed_message'] = test_df['message'].apply(process_text)\n",
    "val_df['processed_message'] = val_df['message'].apply(process_text)\n",
    "train_df.drop('message', axis=1, inplace=True)\n",
    "test_df.drop('message', axis=1, inplace=True) \n",
    "val_df.drop('message', axis=1, inplace=True)"
   ]
  },
  {
   "cell_type": "markdown",
   "metadata": {},
   "source": [
    "## Feature extraction"
   ]
  },
  {
   "cell_type": "code",
   "execution_count": 12,
   "metadata": {},
   "outputs": [
    {
     "name": "stdout",
     "output_type": "stream",
     "text": [
      "(4457, 7103)\n",
      "(557, 7103)\n",
      "(1115, 7103)\n"
     ]
    }
   ],
   "source": [
    "tfidf_vectorizer = TfidfVectorizer()\n",
    "\n",
    "# Fit and transform the training data\n",
    "train_tfidf = tfidf_vectorizer.fit_transform(train_df['processed_message'])\n",
    "\n",
    "# Transform the test and val data\n",
    "val_tfidf = tfidf_vectorizer.transform(val_df['processed_message'])\n",
    "test_tfidf = tfidf_vectorizer.transform(test_df['processed_message'])\n",
    "\n",
    "print(train_tfidf.shape)\n",
    "print(val_tfidf.shape)\n",
    "print(test_tfidf.shape)"
   ]
  },
  {
   "cell_type": "markdown",
   "metadata": {},
   "source": [
    "## Training and evaluating a few benchmark models "
   ]
  },
  {
   "cell_type": "markdown",
   "metadata": {},
   "source": [
    "#### MLflow Configuration and Model Tracking\n",
    "\n",
    "MLflow is used to track experiments, record metrics, and manage model artifacts:\n",
    "\n",
    "- `mlflow ui` sets up a local server.\n",
    "- Tracking URI is set to local server (http://localhost:5000)\n",
    "- Experiment name: \"SMS Spam Detection\"\n",
    "- For each model (Logistic Regression, Decision Tree, Random Forest, SVM):\n",
    "    - Hyperparameters are tuned using GridSearchCV\n",
    "    - Best parameters and ROC-AUC scores are logged\n",
    "    - Models are registered in MLflow registry\n",
    "    - Training and Test AUCPR metrics are tracked\n",
    "    - Model artifacts are saved for deployment"
   ]
  },
  {
   "cell_type": "code",
   "execution_count": 4,
   "metadata": {},
   "outputs": [
    {
     "name": "stderr",
     "output_type": "stream",
     "text": [
      "2025/03/04 23:23:39 INFO mlflow.tracking.fluent: Experiment with name 'SMS Spam Detection' does not exist. Creating a new experiment.\n"
     ]
    },
    {
     "data": {
      "text/plain": [
       "<Experiment: artifact_location='mlflow-artifacts:/653745853995064246', creation_time=1741110819041, experiment_id='653745853995064246', last_update_time=1741110819041, lifecycle_stage='active', name='SMS Spam Detection', tags={}>"
      ]
     },
     "execution_count": 4,
     "metadata": {},
     "output_type": "execute_result"
    }
   ],
   "source": [
    "mlflow.set_tracking_uri(\"http://127.0.0.1:5000\")\n",
    "mlflow.set_experiment(\"SMS Spam Detection\")"
   ]
  },
  {
   "cell_type": "markdown",
   "metadata": {},
   "source": [
    "#### Defining `train` and `evaluate` functions"
   ]
  },
  {
   "cell_type": "code",
   "execution_count": 13,
   "metadata": {},
   "outputs": [],
   "source": [
    "def fine_tune_model(model, param_grid, train_tfidf, train_labels):\n",
    "    \"\"\"\n",
    "    Perform grid search and return the best estimator\n",
    "    \"\"\"\n",
    "    grid_search = GridSearchCV(estimator=model, param_grid=param_grid, \n",
    "                                    scoring='roc_auc', cv=5, n_jobs=-1, verbose=2)\n",
    "    grid_search.fit(train_tfidf, train_labels)    \n",
    "    best_model = grid_search.best_estimator_\n",
    "        \n",
    "    mlflow.log_params(grid_search.best_params_)\n",
    "    mlflow.log_param(\"model_name\", model.__class__.__name__)\n",
    "    mlflow.log_metric(\"best roc_auc score\", grid_search.best_score_)\n",
    "\n",
    "    mlflow.sklearn.log_model(best_model, \"model\")\n",
    "        \n",
    "    print(\"Best Parameters:\", grid_search.best_params_)\n",
    "    print(\"Best roc_auc score:\", grid_search.best_score_)\n",
    "        \n",
    "    return best_model\n",
    "\n",
    "def evaluate_model(model, X, y, label=\"\"):\n",
    "    \"\"\"\n",
    "    Evaluate model performance and plot confusion matrix for a given dataset\n",
    "    \n",
    "    Args:\n",
    "        model: trained model object\n",
    "        X: features (tfidf matrix)\n",
    "        y: true labels\n",
    "        label: dataset label (e.g., \"Training\" or \"Test\")\n",
    "    \"\"\"\n",
    "    predictions = model.predict(X)\n",
    "\n",
    "    precision, recall, _ = precision_recall_curve(y, predictions)\n",
    "    auprc = auc(recall, precision)\n",
    "    mlflow.log_metric(f\"{label}_aucpr\", auprc)\n",
    "    \n",
    "    return auprc"
   ]
  },
  {
   "cell_type": "markdown",
   "metadata": {},
   "source": [
    "#### Logistic Regression"
   ]
  },
  {
   "cell_type": "code",
   "execution_count": 14,
   "metadata": {},
   "outputs": [
    {
     "name": "stdout",
     "output_type": "stream",
     "text": [
      "Fitting 5 folds for each of 24 candidates, totalling 120 fits\n"
     ]
    },
    {
     "name": "stderr",
     "output_type": "stream",
     "text": [
      "2025/03/04 23:26:44 WARNING mlflow.models.model: Model logged without a signature and input example. Please set `input_example` parameter when logging the model to auto infer the model signature.\n",
      "Successfully registered model 'SMS_Spam_Detection_Logistic_Regression'.\n",
      "2025/03/04 23:26:44 INFO mlflow.store.model_registry.abstract_store: Waiting up to 300 seconds for model version to finish creation. Model name: SMS_Spam_Detection_Logistic_Regression, version 1\n"
     ]
    },
    {
     "name": "stdout",
     "output_type": "stream",
     "text": [
      "Best Parameters: {'C': 10, 'penalty': 'l2', 'solver': 'newton-cg'}\n",
      "Best roc_auc score: 0.9887153693876762\n",
      "Training AUCPR: 0.9969892618698633\n",
      "Test AUCPR: 0.9328542495003506\n",
      "🏃 View run Logistic Regression at: http://127.0.0.1:5000/#/experiments/653745853995064246/runs/b8736c8afd724d4c816a67561702c7f3\n",
      "🧪 View experiment at: http://127.0.0.1:5000/#/experiments/653745853995064246\n"
     ]
    },
    {
     "name": "stderr",
     "output_type": "stream",
     "text": [
      "Created version '1' of model 'SMS_Spam_Detection_Logistic_Regression'.\n"
     ]
    }
   ],
   "source": [
    "with mlflow.start_run(run_name=\"Logistic Regression\"):\n",
    "    lr = LogisticRegression()\n",
    "    param_grid_lr = {\n",
    "        'penalty': ['l1', 'l2', 'elasticnet'],\n",
    "        'C': [0.01, 0.1, 1, 10],\n",
    "        'solver': ['newton-cg', 'saga']\n",
    "    }\n",
    "\n",
    "    best_lr = fine_tune_model(lr, param_grid_lr, train_tfidf, train_df['category'])\n",
    "    train_aucpr = evaluate_model(best_lr, train_tfidf, train_df['category'], \"Training\")\n",
    "    test_aucpr = evaluate_model(best_lr, test_tfidf, test_df['category'], \"Test\")\n",
    "\n",
    "    model_uri = f\"runs:/{mlflow.active_run().info.run_id}/model\"\n",
    "    mlflow.register_model(model_uri, \"SMS_Spam_Detection_Logistic_Regression\")\n",
    "    \n",
    "    print(f\"Training AUCPR: {train_aucpr}\")\n",
    "    print(f\"Test AUCPR: {test_aucpr}\")\n",
    "\n",
    "mlflow.end_run()"
   ]
  },
  {
   "cell_type": "markdown",
   "metadata": {},
   "source": [
    "#### Decision tree"
   ]
  },
  {
   "cell_type": "code",
   "execution_count": 15,
   "metadata": {},
   "outputs": [
    {
     "name": "stdout",
     "output_type": "stream",
     "text": [
      "Fitting 5 folds for each of 48 candidates, totalling 240 fits\n"
     ]
    },
    {
     "name": "stderr",
     "output_type": "stream",
     "text": [
      "2025/03/04 23:27:36 WARNING mlflow.models.model: Model logged without a signature and input example. Please set `input_example` parameter when logging the model to auto infer the model signature.\n",
      "Successfully registered model 'SMS_Spam_Detection_Decision_Tree'.\n",
      "2025/03/04 23:27:36 INFO mlflow.store.model_registry.abstract_store: Waiting up to 300 seconds for model version to finish creation. Model name: SMS_Spam_Detection_Decision_Tree, version 1\n"
     ]
    },
    {
     "name": "stdout",
     "output_type": "stream",
     "text": [
      "Best Parameters: {'criterion': 'gini', 'max_depth': None, 'min_samples_leaf': 4, 'min_samples_split': 2}\n",
      "Best roc_auc score: 0.933229756380755\n",
      "Training AUCPR: 0.8986980736971734\n",
      "Test AUCPR: 0.8143037969956278\n",
      "🏃 View run Decision Tree at: http://127.0.0.1:5000/#/experiments/653745853995064246/runs/8bbd606421f247d7a2b67b0a9441ada8\n",
      "🧪 View experiment at: http://127.0.0.1:5000/#/experiments/653745853995064246\n"
     ]
    },
    {
     "name": "stderr",
     "output_type": "stream",
     "text": [
      "Created version '1' of model 'SMS_Spam_Detection_Decision_Tree'.\n"
     ]
    }
   ],
   "source": [
    "with mlflow.start_run(run_name=\"Decision Tree\"):\n",
    "    dt = DecisionTreeClassifier()\n",
    "    param_grid_dt = {\n",
    "        'criterion': ['gini', 'entropy'],\n",
    "        'max_depth': [None, 10, 20, 30],\n",
    "        'min_samples_split': [2, 5],\n",
    "        'min_samples_leaf': [1, 2, 4]\n",
    "    }\n",
    "\n",
    "    best_dt = fine_tune_model(dt, param_grid_dt, train_tfidf, train_df['category'])\n",
    "    train_aucpr = evaluate_model(best_dt, train_tfidf, train_df['category'], \"Training\")\n",
    "    test_aucpr = evaluate_model(best_dt, test_tfidf, test_df['category'], \"Test\")\n",
    "\n",
    "    model_uri = f\"runs:/{mlflow.active_run().info.run_id}/model\"\n",
    "    mlflow.register_model(model_uri, \"SMS_Spam_Detection_Decision_Tree\")\n",
    "    \n",
    "    print(f\"Training AUCPR: {train_aucpr}\")\n",
    "    print(f\"Test AUCPR: {test_aucpr}\")\n",
    "\n",
    "mlflow.end_run()"
   ]
  },
  {
   "cell_type": "markdown",
   "metadata": {},
   "source": [
    "#### Random forest"
   ]
  },
  {
   "cell_type": "code",
   "execution_count": 17,
   "metadata": {},
   "outputs": [
    {
     "name": "stdout",
     "output_type": "stream",
     "text": [
      "Fitting 5 folds for each of 72 candidates, totalling 360 fits\n"
     ]
    },
    {
     "name": "stderr",
     "output_type": "stream",
     "text": [
      "2025/03/04 23:33:05 WARNING mlflow.models.model: Model logged without a signature and input example. Please set `input_example` parameter when logging the model to auto infer the model signature.\n"
     ]
    },
    {
     "name": "stdout",
     "output_type": "stream",
     "text": [
      "Best Parameters: {'criterion': 'entropy', 'max_depth': None, 'min_samples_leaf': 1, 'min_samples_split': 5, 'n_estimators': 200}\n",
      "Best roc_auc score: 0.9896120150260328\n"
     ]
    },
    {
     "name": "stderr",
     "output_type": "stream",
     "text": [
      "Successfully registered model 'SMS_Spam_Detection_Random_Forest'.\n",
      "2025/03/04 23:33:05 INFO mlflow.store.model_registry.abstract_store: Waiting up to 300 seconds for model version to finish creation. Model name: SMS_Spam_Detection_Random_Forest, version 1\n"
     ]
    },
    {
     "name": "stdout",
     "output_type": "stream",
     "text": [
      "Training AUCPR: 0.9992760626814533\n",
      "Test AUCPR: 0.9418545159057393\n",
      "🏃 View run Random Forest at: http://127.0.0.1:5000/#/experiments/653745853995064246/runs/76e72d84421e4b0da99c4c7c43dd0e81\n",
      "🧪 View experiment at: http://127.0.0.1:5000/#/experiments/653745853995064246\n"
     ]
    },
    {
     "name": "stderr",
     "output_type": "stream",
     "text": [
      "Created version '1' of model 'SMS_Spam_Detection_Random_Forest'.\n"
     ]
    }
   ],
   "source": [
    "with mlflow.start_run(run_name=\"Random Forest\"):\n",
    "    rf = RandomForestClassifier()\n",
    "    param_grid_rf = {\n",
    "        'n_estimators': [100, 200],\n",
    "        'criterion': ['gini', 'entropy'],\n",
    "        'max_depth': [None, 10, 20],\n",
    "        'min_samples_split': [2, 5],\n",
    "        'min_samples_leaf': [1, 2, 4]\n",
    "    }\n",
    "\n",
    "    best_rf = fine_tune_model(rf, param_grid_rf, train_tfidf, train_df['category'])\n",
    "    train_aucpr = evaluate_model(best_rf, train_tfidf, train_df['category'], \"Training\")\n",
    "    test_aucpr = evaluate_model(best_rf, test_tfidf, test_df['category'], \"Test\")\n",
    "\n",
    "    model_uri = f\"runs:/{mlflow.active_run().info.run_id}/model\"\n",
    "    mlflow.register_model(model_uri, \"SMS_Spam_Detection_Random_Forest\")\n",
    "    \n",
    "    print(f\"Training AUCPR: {train_aucpr}\")\n",
    "    print(f\"Test AUCPR: {test_aucpr}\")\n",
    "\n",
    "mlflow.end_run()"
   ]
  },
  {
   "cell_type": "markdown",
   "metadata": {},
   "source": [
    "#### Support Vector Machine"
   ]
  },
  {
   "cell_type": "code",
   "execution_count": 16,
   "metadata": {},
   "outputs": [
    {
     "name": "stdout",
     "output_type": "stream",
     "text": [
      "Fitting 5 folds for each of 8 candidates, totalling 40 fits\n"
     ]
    },
    {
     "name": "stderr",
     "output_type": "stream",
     "text": [
      "2025/03/04 23:28:43 WARNING mlflow.models.model: Model logged without a signature and input example. Please set `input_example` parameter when logging the model to auto infer the model signature.\n"
     ]
    },
    {
     "name": "stdout",
     "output_type": "stream",
     "text": [
      "Best Parameters: {'C': 1, 'gamma': 'scale', 'kernel': 'rbf'}\n",
      "Best roc_auc score: 0.9908937145922124\n"
     ]
    },
    {
     "name": "stderr",
     "output_type": "stream",
     "text": [
      "Successfully registered model 'SMS_Spam_Detection_SVM'.\n",
      "2025/03/04 23:28:46 INFO mlflow.store.model_registry.abstract_store: Waiting up to 300 seconds for model version to finish creation. Model name: SMS_Spam_Detection_SVM, version 1\n"
     ]
    },
    {
     "name": "stdout",
     "output_type": "stream",
     "text": [
      "Training AUCPR: 0.9927606268145333\n",
      "Test AUCPR: 0.9418545159057393\n",
      "🏃 View run SVM at: http://127.0.0.1:5000/#/experiments/653745853995064246/runs/c30931eea31a4342a47909f471656e81\n",
      "🧪 View experiment at: http://127.0.0.1:5000/#/experiments/653745853995064246\n"
     ]
    },
    {
     "name": "stderr",
     "output_type": "stream",
     "text": [
      "Created version '1' of model 'SMS_Spam_Detection_SVM'.\n"
     ]
    }
   ],
   "source": [
    "with mlflow.start_run(run_name=\"SVM\"):\n",
    "    svm = SVC()\n",
    "    param_grid_svm = {\n",
    "        'C': [0.1, 1],\n",
    "        'kernel': ['linear', 'rbf'],\n",
    "        'gamma': ['scale', 'auto']\n",
    "    }\n",
    "\n",
    "    best_svm = fine_tune_model(svm, param_grid_svm, train_tfidf, train_df['category'])\n",
    "    train_aucpr = evaluate_model(best_svm, train_tfidf, train_df['category'], \"Training\")\n",
    "    test_aucpr = evaluate_model(best_svm, test_tfidf, test_df['category'], \"Test\")\n",
    "\n",
    "    model_uri = f\"runs:/{mlflow.active_run().info.run_id}/model\"\n",
    "    mlflow.register_model(model_uri, \"SMS_Spam_Detection_SVM\")\n",
    "    \n",
    "    print(f\"Training AUCPR: {train_aucpr}\")\n",
    "    print(f\"Test AUCPR: {test_aucpr}\")\n",
    "\n",
    "mlflow.end_run()\n"
   ]
  },
  {
   "cell_type": "markdown",
   "metadata": {},
   "source": [
    "### Printing `AUCPR` for benchmark models"
   ]
  },
  {
   "cell_type": "markdown",
   "metadata": {},
   "source": [
    "#### Utility function for plotting `aucpr`"
   ]
  },
  {
   "cell_type": "code",
   "execution_count": 29,
   "metadata": {},
   "outputs": [],
   "source": [
    "def plot_auc_pr(y_test, y_pred, title):\n",
    "    \"\"\"\n",
    "    Plot the Precision-Recall curve and compute the AUC-PR.\n",
    "\n",
    "    Args:\n",
    "        y_test (array-like): True binary labels.\n",
    "        y_pred (array-like): Predicted probabilities or binary labels.\n",
    "        title (str): Title for the plot.\n",
    "    \"\"\"\n",
    "\n",
    "    precision, recall, _ = precision_recall_curve(y_test, y_pred)\n",
    "    \n",
    "    auc_pr = auc(recall, precision)\n",
    "    \n",
    "    plt.figure(figsize=(8, 6))\n",
    "    plt.plot(recall, precision, color='blue', lw=2, label=f'AUC-PR = {auc_pr:.2f}')\n",
    "    plt.fill_between(recall, precision, alpha=0.2, color='blue')\n",
    "    \n",
    "    plt.xlabel('Recall', fontsize=12)\n",
    "    plt.ylabel('Precision', fontsize=12)\n",
    "    plt.title(f\"Precision-Recall Curve for {title}\", fontsize=14)\n",
    "    plt.legend(loc='lower left', fontsize=12)\n",
    "    plt.grid(True)\n",
    "    plt.show()\n",
    "\n",
    "    return auc_pr"
   ]
  },
  {
   "cell_type": "code",
   "execution_count": 30,
   "metadata": {},
   "outputs": [],
   "source": [
    "runs_models_mapping = [\n",
    "    {\"run_id\": \"b8736c8afd724d4c816a67561702c7f3\", \"model_name\": \"Logistic Regression\"},\n",
    "    {\"run_id\": \"8bbd606421f247d7a2b67b0a9441ada8\", \"model_name\": \"Decision Tree\"},\n",
    "    {\"run_id\": \"76e72d84421e4b0da99c4c7c43dd0e81\", \"model_name\": \"Random Forest\"},\n",
    "    {\"run_id\": \"c30931eea31a4342a47909f471656e81\", \"model_name\": \"SVM\"}\n",
    "]"
   ]
  },
  {
   "cell_type": "markdown",
   "metadata": {},
   "source": [
    "### Plotting the graphs"
   ]
  },
  {
   "cell_type": "code",
   "execution_count": 34,
   "metadata": {},
   "outputs": [
    {
     "name": "stderr",
     "output_type": "stream",
     "text": [
      "Downloading artifacts: 100%|██████████| 5/5 [00:00<00:00, 24.98it/s]\n"
     ]
    },
    {
     "name": "stdout",
     "output_type": "stream",
     "text": [
      "Logistic Regression:\n"
     ]
    },
    {
     "data": {
      "image/png": "[encoded data removed]",
      "text/plain": [
       "<Figure size 800x600 with 1 Axes>"
      ]
     },
     "metadata": {},
     "output_type": "display_data"
    },
    {
     "name": "stdout",
     "output_type": "stream",
     "text": [
      "AUCPR: 0.9329\n",
      "\n"
     ]
    },
    {
     "name": "stderr",
     "output_type": "stream",
     "text": [
      "Downloading artifacts: 100%|██████████| 5/5 [00:00<00:00, 15.16it/s]\n"
     ]
    },
    {
     "name": "stdout",
     "output_type": "stream",
     "text": [
      "Decision Tree:\n"
     ]
    },
    {
     "data": {
      "image/png": "[encoded data removed]",
      "text/plain": [
       "<Figure size 800x600 with 1 Axes>"
      ]
     },
     "metadata": {},
     "output_type": "display_data"
    },
    {
     "name": "stdout",
     "output_type": "stream",
     "text": [
      "AUCPR: 0.8143\n",
      "\n"
     ]
    },
    {
     "name": "stderr",
     "output_type": "stream",
     "text": [
      "Downloading artifacts: 100%|██████████| 5/5 [00:04<00:00,  1.22it/s]\n"
     ]
    },
    {
     "name": "stdout",
     "output_type": "stream",
     "text": [
      "Random Forest:\n"
     ]
    },
    {
     "data": {
      "image/png": "[encoded data removed]",
      "text/plain": [
       "<Figure size 800x600 with 1 Axes>"
      ]
     },
     "metadata": {},
     "output_type": "display_data"
    },
    {
     "name": "stdout",
     "output_type": "stream",
     "text": [
      "AUCPR: 0.9419\n",
      "\n"
     ]
    },
    {
     "name": "stderr",
     "output_type": "stream",
     "text": [
      "Downloading artifacts: 100%|██████████| 5/5 [00:02<00:00,  1.93it/s] \n"
     ]
    },
    {
     "name": "stdout",
     "output_type": "stream",
     "text": [
      "SVM:\n"
     ]
    },
    {
     "data": {
      "image/png": "[encoded data removed]",
      "text/plain": [
       "<Figure size 800x600 with 1 Axes>"
      ]
     },
     "metadata": {},
     "output_type": "display_data"
    },
    {
     "name": "stdout",
     "output_type": "stream",
     "text": [
      "AUCPR: 0.9419\n",
      "\n"
     ]
    }
   ],
   "source": [
    "auc_pr_table = prettytable.PrettyTable([\"Model\", \"AUCPR score\"])\n",
    "\n",
    "for model_info in runs_models_mapping:\n",
    "    model = mlflow.pyfunc.load_model(f\"runs:/{model_info['run_id']}/model\")\n",
    "    \n",
    "    predictions = model.predict(test_tfidf)\n",
    "    \n",
    "    print(f\"{model_info['model_name']}:\")\n",
    "    aucpr = plot_auc_pr(test_df['category'], predictions, model_info['model_name'])\n",
    "    print(f\"AUCPR: {aucpr:.4f}\\n\")\n",
    "\n",
    "    auc_pr_table.add_row([model_info['model_name'], f\"{aucpr:.4f}\"])\n"
   ]
  },
  {
   "cell_type": "code",
   "execution_count": 35,
   "metadata": {},
   "outputs": [
    {
     "data": {
      "text/html": [
       "<table>\n",
       "    <thead>\n",
       "        <tr>\n",
       "            <th>Model</th>\n",
       "            <th>AUCPR score</th>\n",
       "        </tr>\n",
       "    </thead>\n",
       "    <tbody>\n",
       "        <tr>\n",
       "            <td>Logistic Regression</td>\n",
       "            <td>0.9329</td>\n",
       "        </tr>\n",
       "        <tr>\n",
       "            <td>Decision Tree</td>\n",
       "            <td>0.8143</td>\n",
       "        </tr>\n",
       "        <tr>\n",
       "            <td>Random Forest</td>\n",
       "            <td>0.9419</td>\n",
       "        </tr>\n",
       "        <tr>\n",
       "            <td>SVM</td>\n",
       "            <td>0.9419</td>\n",
       "        </tr>\n",
       "    </tbody>\n",
       "</table>"
      ],
      "text/plain": [
       "+---------------------+-------------+\n",
       "|        Model        | AUCPR score |\n",
       "+---------------------+-------------+\n",
       "| Logistic Regression |    0.9329   |\n",
       "|    Decision Tree    |    0.8143   |\n",
       "|    Random Forest    |    0.9419   |\n",
       "|         SVM         |    0.9419   |\n",
       "+---------------------+-------------+"
      ]
     },
     "execution_count": 35,
     "metadata": {},
     "output_type": "execute_result"
    }
   ],
   "source": [
    "auc_pr_table"
   ]
  },
  {
   "cell_type": "markdown",
   "metadata": {},
   "source": [
    "### Model Performance Results\n",
    "\n",
    "Based on the AUCPR scores, the SVM and Random Forest models performed best (0.9419), followed closely by Logistic Regression (0.9329). The Decision Tree model showed the lowest performance (0.8143) which might be due to overfitting.\n",
    "\n",
    "Considering that, `SVM` is a simpler model, we will choose `SVM` as the best model."
   ]
  }
 ],
 "metadata": {
  "kernelspec": {
   "display_name": "venv",
   "language": "python",
   "name": "python3"
  },
  "language_info": {
   "codemirror_mode": {
    "name": "ipython",
    "version": 3
   },
   "file_extension": ".py",
   "mimetype": "text/x-python",
   "name": "python",
   "nbconvert_exporter": "python",
   "pygments_lexer": "ipython3",
   "version": "3.10.11"
  }
 },
 "nbformat": 4,
 "nbformat_minor": 2
}
