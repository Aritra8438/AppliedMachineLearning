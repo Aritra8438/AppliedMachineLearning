{
 "cells": [
  {
   "cell_type": "markdown",
   "metadata": {},
   "source": [
    "# SMS Spam Detection Model\n",
    "\n",
    "In this notebook, I perform the following tasks:\n",
    "\n",
    "1. **Data Loading and Preprocessing:**\n",
    "    - Load train, validation, and test datasets\n",
    "    - Remove any null values\n",
    "    - Combine training and validation sets for better model performance\n",
    "\n",
    "2. **Feature Extraction:**\n",
    "    - Convert text messages to `TF-IDF` vectors for machine learning input\n",
    "    - Train data shape: Shows number of messages and features\n",
    "    - Test data shape: Indicates test set dimensions\n",
    "\n",
    "3. **Model Training and Hyperparameter Tuning:**\n",
    "    I implement and tune four different classifiers:\n",
    "    - `Decision Tree`\n",
    "    - `Logistic Regression`\n",
    "    - `Support Vector Machine (SVM)`\n",
    "    - `Random Forest`\n",
    "\n",
    "    Each model uses GridSearchCV with 5-fold cross-validation to find optimal parameters.\n",
    "\n",
    "4. **Model Evaluation:**\n",
    "    For each classifier, I analyze:\n",
    "    - Classification reports (`precision`, `recall`, `F1-score`)\n",
    "    - Confusion matrices\n",
    "    - Sample predictions on test data"
   ]
  },
  {
   "cell_type": "markdown",
   "metadata": {},
   "source": [
    "## Preprocessing data"
   ]
  },
  {
   "cell_type": "markdown",
   "metadata": {},
   "source": [
    "### Import necessary modules"
   ]
  },
  {
   "cell_type": "code",
   "execution_count": 2,
   "metadata": {},
   "outputs": [],
   "source": [
    "import random\n",
    "import numpy as np\n",
    "import pandas as pd\n",
    "import matplotlib.pyplot as plt\n",
    "import seaborn as sns\n",
    "from prettytable import PrettyTable\n",
    "from sklearn.feature_extraction.text import TfidfVectorizer\n",
    "from sklearn.linear_model import LogisticRegression\n",
    "from sklearn.tree import DecisionTreeClassifier\n",
    "from sklearn.ensemble import RandomForestClassifier\n",
    "from sklearn.svm import SVC\n",
    "from sklearn.model_selection import GridSearchCV, StratifiedShuffleSplit\n",
    "from sklearn.metrics import classification_report, confusion_matrix\n",
    "import warnings\n",
    "\n",
    "# Filter warnings\n",
    "warnings.filterwarnings('ignore')"
   ]
  },
  {
   "cell_type": "markdown",
   "metadata": {},
   "source": [
    "## Load the preprocessed data"
   ]
  },
  {
   "cell_type": "code",
   "execution_count": 3,
   "metadata": {},
   "outputs": [],
   "source": [
    "train_df = pd.read_csv('sms-spam-collection/train_data.csv')\n",
    "val_df = pd.read_csv('sms-spam-collection/val_data.csv')\n",
    "test_df = pd.read_csv('sms-spam-collection/test_data.csv')"
   ]
  },
  {
   "cell_type": "markdown",
   "metadata": {},
   "source": [
    "##### Drop rows with `missing values`"
   ]
  },
  {
   "cell_type": "code",
   "execution_count": 4,
   "metadata": {},
   "outputs": [],
   "source": [
    "train_df.dropna(inplace=True)\n",
    "val_df.dropna(inplace=True)\n",
    "test_df.dropna(inplace=True)"
   ]
  },
  {
   "cell_type": "markdown",
   "metadata": {},
   "source": [
    "##### Merging `train` and `val` set.\n",
    "I don't need a different `validation` set as I will be using `GridSearchCV` which uses `K-fold Cross-Validation` to find the best set of hyperparameters (**hyperparameter tuning**).\n",
    "\n",
    "The `K-fold Cross-validation` in `GridSearchCV` works as follows:\n",
    "\n",
    "1. **Cross-validation Process**:\n",
    "    * Training data is split into K equal parts (folds)\n",
    "    * K-1 folds used for training, 1 fold for validation\n",
    "    * Process repeats K times with different validation folds\n",
    "\n",
    "2. **GridSearchCV Operation**:\n",
    "    * Tests every combination of hyperparameters\n",
    "    * For each combination:\n",
    "      * Performs K-fold cross-validation\n",
    "      * Calculates average performance score\n",
    "    * Selects best performing parameters\n",
    "\n",
    "This approach helps prevent overfitting and ensures robust model performance."
   ]
  },
  {
   "cell_type": "code",
   "execution_count": 5,
   "metadata": {},
   "outputs": [],
   "source": [
    "train_df = pd.concat([train_df, val_df])"
   ]
  },
  {
   "cell_type": "markdown",
   "metadata": {},
   "source": [
    "## Feature extraction"
   ]
  },
  {
   "cell_type": "markdown",
   "metadata": {},
   "source": [
    "##### TF-IDF (Term Frequency-Inverse Document Frequency) Vectorization\n",
    "\n",
    "TF-IDF is a numerical statistic that reflects the importance of a word in a document collection by balancing two factors:\n",
    "\n",
    "1. **Term Frequency (TF)**: Measures how frequently a term occurs in a document\n",
    "    - Higher weight for words appearing often in a message\n",
    "    - Captures content-defining terms\n",
    "\n",
    "2. **Inverse Document Frequency (IDF)**: Measures how unique the term is across all documents\n",
    "    - Penalizes common words that appear in many messages\n",
    "    - Boosts weight of distinctive terms\n",
    "\n",
    "##### Why TF-IDF is ideal for SMS Spam Detection:\n",
    "\n",
    "- **Captures Spam Indicators**: \n",
    "  - Spam messages often contain similar keywords (\"free\", \"win\", \"prize\")\n",
    "  - TF-IDF identifies these distinctive patterns\n",
    "\n",
    "- **Weight Normalization**: \n",
    "  - Common words in both spam/ham get lower weights\n",
    "  - Focus shifts to discriminative features\n",
    "\n",
    "- **Length Normalization**: \n",
    "  - Accounts for varying SMS lengths\n",
    "  - Prevents bias towards longer messages"
   ]
  },
  {
   "cell_type": "code",
   "execution_count": 6,
   "metadata": {},
   "outputs": [
    {
     "name": "stdout",
     "output_type": "stream",
     "text": [
      "(4451, 7103)\n",
      "(1112, 7103)\n"
     ]
    }
   ],
   "source": [
    "# Initialize the TF-IDF Vectorizer\n",
    "tfidf_vectorizer = TfidfVectorizer()\n",
    "\n",
    "# Fit and transform the training data\n",
    "train_tfidf = tfidf_vectorizer.fit_transform(train_df['processed_message'])\n",
    "\n",
    "# Transform the test data\n",
    "test_tfidf = tfidf_vectorizer.transform(test_df['processed_message'])\n",
    "\n",
    "print(train_tfidf.shape)\n",
    "print(test_tfidf.shape)"
   ]
  },
  {
   "cell_type": "markdown",
   "metadata": {},
   "source": [
    "## Training and evaluating a few benchmark models "
   ]
  },
  {
   "cell_type": "markdown",
   "metadata": {},
   "source": [
    "##### Using F1-Weighted for Model Evaluation\n",
    "\n",
    "F1-score is effective for imbalanced datasets as it gives a larger weight to lower numbers.\n",
    "\n",
    "Weighted F1 Score = $\\frac{\\sum_{i=1}^{n} N_i \\cdot F1_i}{\\sum_{i=1}^{n} N_i}$\n",
    "\n",
    "where:\n",
    "- $N_i$ = Number of samples in class i\n",
    "- $F1_i$ = F1-score of class i\n",
    "- n = Number of classes\n"
   ]
  },
  {
   "cell_type": "markdown",
   "metadata": {},
   "source": [
    "#### Decision Tree Classifier\n",
    "\n",
    "The Decision Tree model was trained using GridSearchCV with the following hyperparameters:\n",
    "\n",
    "- `criterion`: ['gini', 'entropy']\n",
    "    - Measures quality of split\n",
    "\n",
    "- `max_depth`: [None, 10, 20, 30, 40, 50]\n",
    "    - Maximum depth of tree\n",
    "    - None: Expands until leaves are pure\n",
    "    - Lower values prevent overfitting\n",
    "\n",
    "- `min_samples_split`: [2, 5, 10]\n",
    "    - Minimum samples required to split node\n",
    "    - Higher values create simpler trees\n",
    "    - Helps control overfitting\n",
    "\n",
    "- `min_samples_leaf`: [1, 2, 4] \n",
    "    - Minimum samples required at leaf node\n",
    "    - Higher values prevent creating too specific rules\n",
    "    - Improves generalization"
   ]
  },
  {
   "cell_type": "code",
   "execution_count": 7,
   "metadata": {},
   "outputs": [
    {
     "name": "stdout",
     "output_type": "stream",
     "text": [
      "Fitting 5 folds for each of 108 candidates, totalling 540 fits\n",
      "Best Parameters: {'criterion': 'gini', 'max_depth': 40, 'min_samples_leaf': 1, 'min_samples_split': 2}\n",
      "Best Score: 0.9599872853486484\n"
     ]
    }
   ],
   "source": [
    "param_grid_dt = {\n",
    "    'criterion': ['gini', 'entropy'],\n",
    "    'max_depth': [None, 10, 20, 30, 40, 50],\n",
    "    'min_samples_split': [2, 5, 10],\n",
    "    'min_samples_leaf': [1, 2, 4]\n",
    "}\n",
    "\n",
    "dt_classifier = DecisionTreeClassifier()\n",
    "\n",
    "grid_search_dt = GridSearchCV(estimator=dt_classifier, param_grid=param_grid_dt, \n",
    "                        scoring='f1_weighted', cv=5, n_jobs=-1, verbose=2)\n",
    "\n",
    "# Fit the model on the training data\n",
    "grid_search_dt.fit(train_tfidf, train_df['category'])\n",
    "\n",
    "print(\"Best Parameters:\", grid_search_dt.best_params_)\n",
    "print(\"Best Score:\", grid_search_dt.best_score_)"
   ]
  },
  {
   "cell_type": "markdown",
   "metadata": {},
   "source": [
    "##### Testing the model on `test set`"
   ]
  },
  {
   "cell_type": "code",
   "execution_count": null,
   "metadata": {},
   "outputs": [
    {
     "name": "stdout",
     "output_type": "stream",
     "text": [
      "              precision    recall  f1-score   support\n",
      "\n",
      "         ham       0.98      0.98      0.98       963\n",
      "        spam       0.89      0.85      0.87       149\n",
      "\n",
      "    accuracy                           0.96      1112\n",
      "   macro avg       0.93      0.91      0.92      1112\n",
      "weighted avg       0.96      0.96      0.96      1112\n",
      "\n"
     ]
    },
    {
     "data": {
      "image/png": "[encoded data removed]",
      "text/plain": [
       "<Figure size 800x600 with 2 Axes>"
      ]
     },
     "metadata": {},
     "output_type": "display_data"
    }
   ],
   "source": [
    "best_model_dt = grid_search_dt.best_estimator_\n",
    "test_predictions_dt = best_model_dt.predict(test_tfidf)\n",
    "\n",
    "report = classification_report(test_df['category'], test_predictions_dt)\n",
    "print(report)\n",
    "\n",
    "cm = confusion_matrix(test_df['category'], test_predictions_dt)\n",
    "\n",
    "# Plot confusion matrix\n",
    "\n",
    "plt.figure(figsize=(8,6))\n",
    "sns.heatmap(cm, annot=True, fmt='d', cmap='Blues',\n",
    "            xticklabels=['ham', 'spam'],\n",
    "            yticklabels=['ham', 'spam'])\n",
    "plt.title('Confusion Matrix - Decision Tree')\n",
    "plt.ylabel('True Label')\n",
    "plt.xlabel('Predicted Label')\n",
    "plt.show()"
   ]
  },
  {
   "cell_type": "markdown",
   "metadata": {},
   "source": [
    "#### Logistic Regression Classifier\n",
    "\n",
    "The Logistic Regression model was trained using GridSearchCV with the following hyperparameters:\n",
    "\n",
    "- `penalty`: ['l1', 'l2', 'elasticnet', 'none']\n",
    "    - Regularization type to prevent overfitting\n",
    "    - l1: Lasso regularization, promotes sparsity\n",
    "    - l2: Ridge regularization, handles multicollinearity\n",
    "    - elasticnet: Combination of l1 and l2\n",
    "    - none: No regularization\n",
    "\n",
    "- `C`: [0.01, 0.1, 1, 10, 20]\n",
    "    - Inverse of regularization strength\n",
    "    - Smaller values: Stronger regularization\n",
    "    - Larger values: Less regularization\n",
    "\n",
    "- `solver`: ['newton-cg', 'lbfgs', 'liblinear', 'sag', 'saga']\n",
    "    - different algorithms for optimization"
   ]
  },
  {
   "cell_type": "code",
   "execution_count": null,
   "metadata": {},
   "outputs": [
    {
     "name": "stdout",
     "output_type": "stream",
     "text": [
      "Fitting 5 folds for each of 100 candidates, totalling 500 fits\n",
      "Best Parameters for Logistic Regression: {'C': 20, 'penalty': 'l2', 'solver': 'lbfgs'}\n",
      "Best Score for Logistic Regression: 0.9741272296693266\n"
     ]
    }
   ],
   "source": [
    "lr_model = LogisticRegression(max_iter=1000)\n",
    "\n",
    "param_grid_lr = {\n",
    "    'penalty': ['l1', 'l2', 'elasticnet', 'none'],\n",
    "    'C': [0.01, 0.1, 1, 10, 20],\n",
    "    'solver': ['newton-cg', 'lbfgs', 'liblinear', 'sag', 'saga']\n",
    "}\n",
    "\n",
    "grid_search_lr = GridSearchCV(estimator=lr_model, param_grid=param_grid_lr, \n",
    "                            scoring='f1_weighted', cv=5, n_jobs=-1, verbose=2)\n",
    "\n",
    "grid_search_lr.fit(train_tfidf, train_df['category'])\n",
    "\n",
    "print(\"Best Parameters for Logistic Regression:\", grid_search_lr.best_params_)\n",
    "print(\"Best Score for Logistic Regression:\", grid_search_lr.best_score_)"
   ]
  },
  {
   "cell_type": "markdown",
   "metadata": {},
   "source": [
    "##### Testing the model on `test set`"
   ]
  },
  {
   "cell_type": "code",
   "execution_count": null,
   "metadata": {},
   "outputs": [
    {
     "name": "stdout",
     "output_type": "stream",
     "text": [
      "              precision    recall  f1-score   support\n",
      "\n",
      "         ham       0.98      1.00      0.99       963\n",
      "        spam       0.97      0.89      0.93       149\n",
      "\n",
      "    accuracy                           0.98      1112\n",
      "   macro avg       0.98      0.94      0.96      1112\n",
      "weighted avg       0.98      0.98      0.98      1112\n",
      "\n"
     ]
    },
    {
     "data": {
      "image/png": "[encoded data removed]",
      "text/plain": [
       "<Figure size 800x600 with 2 Axes>"
      ]
     },
     "metadata": {},
     "output_type": "display_data"
    }
   ],
   "source": [
    "best_model_lr = grid_search_lr.best_estimator_\n",
    "test_predictions_lr = best_model_lr.predict(test_tfidf)\n",
    "\n",
    "report_lr = classification_report(test_df['category'], test_predictions_lr)\n",
    "print(report_lr)\n",
    "\n",
    "cm_lr = confusion_matrix(test_df['category'], test_predictions_lr)\n",
    "\n",
    "# Plot confusion matrix\n",
    "\n",
    "plt.figure(figsize=(8,6))\n",
    "sns.heatmap(cm_lr, annot=True, fmt='d', cmap='Blues',\n",
    "            xticklabels=['ham', 'spam'],\n",
    "            yticklabels=['ham', 'spam'])\n",
    "plt.title('Confusion Matrix - Logistic Regression')\n",
    "plt.ylabel('True Label')\n",
    "plt.xlabel('Predicted Label')\n",
    "plt.show()"
   ]
  },
  {
   "cell_type": "markdown",
   "metadata": {},
   "source": [
    "#### Support Vector Machine (SVM) Classifier\n",
    "\n",
    "The SVM model was trained using GridSearchCV with the following hyperparameters:\n",
    "\n",
    "- `C`: [0.1, 1, 10, 100]\n",
    "    - Regularization parameter\n",
    "    - Controls trade-off between margin maximization and error minimization\n",
    "    - Smaller values: Larger margin, more regularization\n",
    "    - Larger values: Smaller margin, less regularization\n",
    "\n",
    "- `gamma`: [1, 0.1, 0.01, 0.001]\n",
    "    - Kernel coefficient for 'rbf', 'poly' and 'sigmoid' kernels\n",
    "    - Defines influence range of each training example\n",
    "    - Larger values denote Smaller influence range\n",
    "\n",
    "- `kernel`: ['linear', 'rbf', 'poly', 'sigmoid']\n",
    "    - Determines the type of hyperplane used to separate the data\n",
    "    - linear: Linear separation\n",
    "    - rbf: Radial Basis Function, handles non-linear classification\n",
    "    - poly: Polynomial function, can capture more complex patterns\n",
    "    - sigmoid: Hyperbolic tangent, similar to neural network"
   ]
  },
  {
   "cell_type": "code",
   "execution_count": null,
   "metadata": {},
   "outputs": [
    {
     "name": "stdout",
     "output_type": "stream",
     "text": [
      "Fitting 5 folds for each of 64 candidates, totalling 320 fits\n",
      "Best Parameters for SVC: {'C': 10, 'gamma': 0.1, 'kernel': 'rbf'}\n",
      "Best Score for SVC: 0.9791887105512836\n"
     ]
    }
   ],
   "source": [
    "svc_model = SVC()\n",
    "\n",
    "param_grid_svc = {\n",
    "    'C': [0.1, 1, 10, 100],\n",
    "    'gamma': [1, 0.1, 0.01, 0.001],\n",
    "    'kernel': ['linear', 'rbf', 'poly', 'sigmoid']\n",
    "}\n",
    "\n",
    "grid_search_svc = GridSearchCV(estimator=svc_model, param_grid=param_grid_svc, \n",
    "                            scoring='f1_weighted', cv=5, n_jobs=-1, verbose=2)\n",
    "\n",
    "grid_search_svc.fit(train_tfidf, train_df['category'])\n",
    "\n",
    "print(\"Best Parameters for SVC:\", grid_search_svc.best_params_)\n",
    "print(\"Best Score for SVC:\", grid_search_svc.best_score_)"
   ]
  },
  {
   "cell_type": "markdown",
   "metadata": {},
   "source": [
    "##### Testing the model on `test set`"
   ]
  },
  {
   "cell_type": "code",
   "execution_count": null,
   "metadata": {},
   "outputs": [
    {
     "name": "stdout",
     "output_type": "stream",
     "text": [
      "              precision    recall  f1-score   support\n",
      "\n",
      "         ham       0.99      1.00      0.99       963\n",
      "        spam       0.99      0.91      0.94       149\n",
      "\n",
      "    accuracy                           0.99      1112\n",
      "   macro avg       0.99      0.95      0.97      1112\n",
      "weighted avg       0.99      0.99      0.99      1112\n",
      "\n"
     ]
    },
    {
     "data": {
      "image/png": "[encoded data removed]",
      "text/plain": [
       "<Figure size 800x600 with 2 Axes>"
      ]
     },
     "metadata": {},
     "output_type": "display_data"
    }
   ],
   "source": [
    "best_model_svc = grid_search_svc.best_estimator_\n",
    "test_predictions_svc = best_model_svc.predict(test_tfidf)\n",
    "\n",
    "report_best = classification_report(test_df['category'], test_predictions_svc)\n",
    "print(report_best)\n",
    "\n",
    "cm_svc = confusion_matrix(test_df['category'], test_predictions_svc)\n",
    "\n",
    "# Plot confusion matrix\n",
    "\n",
    "plt.figure(figsize=(8,6))\n",
    "sns.heatmap(cm_svc, annot=True, fmt='d', cmap='Blues',\n",
    "            xticklabels=['ham', 'spam'],\n",
    "            yticklabels=['ham', 'spam'])\n",
    "plt.title('Confusion Matrix - SVM')\n",
    "plt.ylabel('True Label')\n",
    "plt.xlabel('Predicted Label')\n",
    "plt.show()"
   ]
  },
  {
   "cell_type": "markdown",
   "metadata": {},
   "source": [
    "#### Random Forest Classifier\n",
    "\n",
    "The Random Forest model was trained using GridSearchCV with the following hyperparameters:\n",
    "\n",
    "- `n_estimators`: [100, 200, 300]\n",
    "    - Number of trees in the forest\n",
    "    - More trees generally mean better performance but longer training time\n",
    "    - Need to balance accuracy vs computational cost\n",
    "\n",
    "- `criterion`: ['gini', 'entropy']\n",
    "    - Function to measure quality of split\n",
    "\n",
    "- `max_depth`: [None, 10, 20, 30] \n",
    "    - Maximum depth of each tree\n",
    "    - None: Nodes expanded until all leaves are pure\n",
    "    - Lower values help prevent overfitting\n",
    "    - Controls complexity of individual trees\n",
    "\n",
    "- `min_samples_split`: [2, 5, 10]\n",
    "    - Minimum samples required to split internal node\n",
    "    - Higher values prevent creating too many splits\n",
    "    - Helps control model complexity and overfitting\n",
    "\n",
    "- `min_samples_leaf`: [1, 2, 4]\n",
    "    - Minimum samples required at leaf node\n",
    "    - Higher values ensure each leaf has enough samples\n",
    "    - Prevents creating leaves with very few samples\n",
    "    - Improves generalization performance\n",
    "\n",
    "- `max_features`: ['auto', 'sqrt', 'log2']\n",
    "    - I have used `sqrt` only based on the number of features in the dataset. "
   ]
  },
  {
   "cell_type": "code",
   "execution_count": null,
   "metadata": {},
   "outputs": [
    {
     "name": "stdout",
     "output_type": "stream",
     "text": [
      "Fitting 5 folds for each of 216 candidates, totalling 1080 fits\n",
      "Best Parameters for Random Forest: {'criterion': 'gini', 'max_depth': None, 'min_samples_leaf': 1, 'min_samples_split': 10, 'n_estimators': 100}\n",
      "Best Score for Random Forest: 0.9753970089999161\n"
     ]
    }
   ],
   "source": [
    "rf_classifier = RandomForestClassifier()\n",
    "\n",
    "param_grid_rf = {\n",
    "    'n_estimators': [100, 200, 300],\n",
    "    'criterion': ['gini', 'entropy'],\n",
    "    'max_depth': [None, 10, 20, 30],\n",
    "    'min_samples_split': [2, 5, 10],\n",
    "    'min_samples_leaf': [1, 2, 4]\n",
    "}\n",
    "\n",
    "grid_search_rf = GridSearchCV(estimator=rf_classifier, param_grid=param_grid_rf, \n",
    "                            scoring='f1_weighted', cv=5, n_jobs=-1, verbose=2)\n",
    "\n",
    "grid_search_rf.fit(train_tfidf, train_df['category'])\n",
    "\n",
    "print(\"Best Parameters for Random Forest:\", grid_search_rf.best_params_)\n",
    "print(\"Best Score for Random Forest:\", grid_search_rf.best_score_)"
   ]
  },
  {
   "cell_type": "markdown",
   "metadata": {},
   "source": [
    "##### Testing the model on `test set`"
   ]
  },
  {
   "cell_type": "code",
   "execution_count": null,
   "metadata": {},
   "outputs": [
    {
     "name": "stdout",
     "output_type": "stream",
     "text": [
      "\n",
      "Random Forest Classification Report:\n",
      "              precision    recall  f1-score   support\n",
      "\n",
      "         ham       0.98      1.00      0.99       963\n",
      "        spam       0.99      0.88      0.93       149\n",
      "\n",
      "    accuracy                           0.98      1112\n",
      "   macro avg       0.99      0.94      0.96      1112\n",
      "weighted avg       0.98      0.98      0.98      1112\n",
      "\n"
     ]
    },
    {
     "data": {
      "image/png": "[encoded data removed]",
      "text/plain": [
       "<Figure size 800x600 with 2 Axes>"
      ]
     },
     "metadata": {},
     "output_type": "display_data"
    }
   ],
   "source": [
    "best_model_rf = grid_search_rf.best_estimator_\n",
    "test_predictions_rf = best_model_rf.predict(test_tfidf)\n",
    "\n",
    "print(\"\\nRandom Forest Classification Report:\")\n",
    "print(classification_report(test_df['category'], test_predictions_rf))\n",
    "\n",
    "cm_rf = confusion_matrix(test_df['category'], test_predictions_rf)\n",
    "\n",
    "# Plot Random Forest confusion matrix\n",
    "\n",
    "plt.figure(figsize=(8, 6))\n",
    "sns.heatmap(cm_rf, annot=True, fmt='d', cmap='Blues',\n",
    "            xticklabels=['ham', 'spam'],\n",
    "            yticklabels=['ham', 'spam'])\n",
    "plt.title('Confusion Matrix - Random Forest')\n",
    "plt.ylabel('True Label')\n",
    "plt.xlabel('Predicted Label')\n",
    "plt.show()\n"
   ]
  },
  {
   "cell_type": "markdown",
   "metadata": {},
   "source": [
    "#### Sample Predictions Comparison\n",
    "\n",
    "This section displays a random sample of 50 test messages and compares predictions across all four models (Decision Tree, Logistic Regression, SVM, Random Forest). For each prediction:\n",
    "- `✓` indicates correct prediction\n",
    "- `✗` indicates incorrect prediction\n",
    "\n",
    "The \"All Match\" column shows if all models agreed on the correct prediction."
   ]
  },
  {
   "cell_type": "code",
   "execution_count": null,
   "metadata": {},
   "outputs": [
    {
     "name": "stdout",
     "output_type": "stream",
     "text": [
      "+------------------------------+--------------+---------------+---------------------+-----+---------------+-----------+\n",
      "|           Message            | Actual Label | Decision Tree | Logistic Regression | SVM | Random Forest | All Match |\n",
      "+------------------------------+--------------+---------------+---------------------+-----+---------------+-----------+\n",
      "| hello love went day alrig... |     ham      |       ✓       |          ✓          |  ✓  |       ✓       |     ✓     |\n",
      "| congratulations week comp... |     spam     |       ✓       |          ✓          |  ✓  |       ✓       |     ✓     |\n",
      "| nothing meant money enter... |     ham      |       ✗       |          ✓          |  ✓  |       ✓       |     ✗     |\n",
      "| mum say wan go go shun bi... |     ham      |       ✓       |          ✓          |  ✓  |       ✓       |     ✓     |\n",
      "|       oooh got plenty        |     ham      |       ✓       |          ✓          |  ✓  |       ✓       |     ✓     |\n",
      "| hm good morning headache ... |     ham      |       ✓       |          ✓          |  ✓  |       ✓       |     ✓     |\n",
      "|   meant middle left right    |     ham      |       ✓       |          ✓          |  ✓  |       ✓       |     ✓     |\n",
      "| wonder cos dun rem seeing... |     ham      |       ✓       |          ✓          |  ✓  |       ✓       |     ✓     |\n",
      "| sms auction nokia 7250i g... |     spam     |       ✓       |          ✓          |  ✓  |       ✓       |     ✓     |\n",
      "| aww first time u said u m... |     ham      |       ✓       |          ✓          |  ✓  |       ✓       |     ✓     |\n",
      "|        yup bathe liao        |     ham      |       ✓       |          ✓          |  ✓  |       ✓       |     ✓     |\n",
      "| seems unnecessarily hosti... |     ham      |       ✓       |          ✓          |  ✓  |       ✓       |     ✓     |\n",
      "| hey girl r u hope u r wel... |     ham      |       ✗       |          ✓          |  ✓  |       ✓       |     ✗     |\n",
      "|     give sec think think     |     ham      |       ✓       |          ✓          |  ✓  |       ✓       |     ✓     |\n",
      "|           special            |     ham      |       ✓       |          ✓          |  ✓  |       ✓       |     ✓     |\n",
      "|     asked anthony dad bf     |     ham      |       ✓       |          ✓          |  ✓  |       ✓       |     ✓     |\n",
      "| ca give everything want n... |     ham      |       ✓       |          ✓          |  ✓  |       ✓       |     ✓     |\n",
      "| prize go another customer... |     spam     |       ✓       |          ✓          |  ✓  |       ✓       |     ✓     |\n",
      "| ah see lingo let know wot... |     ham      |       ✓       |          ✓          |  ✓  |       ✓       |     ✓     |\n",
      "| forget owns private prope... |     ham      |       ✓       |          ✓          |  ✓  |       ✓       |     ✓     |\n",
      "| slept thinkthis time lt g... |     ham      |       ✓       |          ✓          |  ✓  |       ✓       |     ✓     |\n",
      "| u think girl propose u to... |     ham      |       ✓       |          ✓          |  ✓  |       ✓       |     ✓     |\n",
      "| always yahoo messenger se... |     ham      |       ✓       |          ✗          |  ✓  |       ✓       |     ✗     |\n",
      "| cant believe said many th... |     ham      |       ✓       |          ✓          |  ✓  |       ✓       |     ✓     |\n",
      "| win winner foley ipod exc... |     spam     |       ✗       |          ✓          |  ✓  |       ✓       |     ✗     |\n",
      "|             lor              |     ham      |       ✓       |          ✓          |  ✓  |       ✓       |     ✓     |\n",
      "| good time nice something ... |     ham      |       ✓       |          ✓          |  ✓  |       ✓       |     ✓     |\n",
      "| ü still attending da talk... |     ham      |       ✓       |          ✓          |  ✓  |       ✓       |     ✓     |\n",
      "|       88066 lost help        |     spam     |       ✗       |          ✓          |  ✓  |       ✗       |     ✗     |\n",
      "|          say happen          |     ham      |       ✓       |          ✓          |  ✓  |       ✓       |     ✓     |\n",
      "| reach ur home lt gt minut... |     ham      |       ✓       |          ✓          |  ✓  |       ✓       |     ✓     |\n",
      "| wah okie okie muz make us... |     ham      |       ✓       |          ✓          |  ✓  |       ✓       |     ✓     |\n",
      "| ela il download come wen ... |     ham      |       ✓       |          ✓          |  ✓  |       ✓       |     ✓     |\n",
      "|   pls come quick cant bare   |     ham      |       ✓       |          ✓          |  ✓  |       ✓       |     ✓     |\n",
      "| sing hu think also import... |     ham      |       ✓       |          ✓          |  ✓  |       ✓       |     ✓     |\n",
      "| thanks ringtone order ref... |     spam     |       ✓       |          ✓          |  ✓  |       ✓       |     ✓     |\n",
      "|  pain urination thing else   |     ham      |       ✓       |          ✓          |  ✓  |       ✓       |     ✓     |\n",
      "| hey sorry didntgive ya be... |     ham      |       ✓       |          ✓          |  ✓  |       ✓       |     ✓     |\n",
      "| misplaced number sending ... |     ham      |       ✓       |          ✓          |  ✓  |       ✓       |     ✓     |\n",
      "| rose needs water season n... |     ham      |       ✓       |          ✓          |  ✓  |       ✓       |     ✓     |\n",
      "| cant talk call keep calli... |     ham      |       ✓       |          ✓          |  ✓  |       ✓       |     ✓     |\n",
      "| want mapquest something l... |     ham      |       ✓       |          ✓          |  ✓  |       ✓       |     ✓     |\n",
      "| u 447801259231 secret adm... |     spam     |       ✓       |          ✓          |  ✓  |       ✓       |     ✓     |\n",
      "| ask u meeting da ge tmr n... |     ham      |       ✓       |          ✓          |  ✓  |       ✓       |     ✓     |\n",
      "|       different styles       |     ham      |       ✓       |          ✓          |  ✓  |       ✓       |     ✓     |\n",
      "| great hope like man well ... |     ham      |       ✓       |          ✓          |  ✓  |       ✓       |     ✓     |\n",
      "| dont search love let love... |     ham      |       ✓       |          ✓          |  ✓  |       ✓       |     ✓     |\n",
      "| aight plan come later ton... |     ham      |       ✓       |          ✓          |  ✓  |       ✓       |     ✓     |\n",
      "|   going buy mum present ar   |     ham      |       ✓       |          ✓          |  ✓  |       ✓       |     ✓     |\n",
      "| swhrt u dey hope ur ok to... |     ham      |       ✓       |          ✓          |  ✓  |       ✓       |     ✓     |\n",
      "+------------------------------+--------------+---------------+---------------------+-----+---------------+-----------+\n"
     ]
    }
   ],
   "source": [
    "# Create a stratified random sample of 50 indices\n",
    "splitter = StratifiedShuffleSplit(n_splits=1, test_size=50, random_state=random.randint(0, 100))\n",
    "_, sample_indices = next(splitter.split(test_df, test_df['category']))\n",
    "\n",
    "def convert_to_symbol(pred, actual):\n",
    "    return '✓' if pred == actual else '✗'\n",
    "\n",
    "def all_match(row):\n",
    "    return '✓' if set(row[2:6]) == set('✓') else '✗'\n",
    "\n",
    "rows = []\n",
    "\n",
    "for idx in sample_indices:\n",
    "    message = test_df['processed_message'].iloc[idx]\n",
    "    # Truncate message to 30 characters\n",
    "    truncated_message = message[:25] + ('...' if len(message) > 25 else '')\n",
    "    \n",
    "    row = [\n",
    "        truncated_message,\n",
    "        test_df['category'].iloc[idx],\n",
    "        convert_to_symbol(test_predictions_dt[idx], test_df['category'].iloc[idx]),\n",
    "        convert_to_symbol(test_predictions_lr[idx], test_df['category'].iloc[idx]),\n",
    "        convert_to_symbol(test_predictions_svc[idx], test_df['category'].iloc[idx]),\n",
    "        convert_to_symbol(test_predictions_rf[idx], test_df['category'].iloc[idx])\n",
    "    ]\n",
    "\n",
    "    row.append(all_match(row))\n",
    "    rows.append(row)\n",
    "\n",
    "table = PrettyTable()\n",
    "table.field_names = [\"Message\", \"Actual Label\", \"Decision Tree\", \"Logistic Regression\", \"SVM\", \"Random Forest\", \"All Match\"]\n",
    "\n",
    "for row in rows:\n",
    "    table.add_row(row)\n",
    "\n",
    "print(table)"
   ]
  },
  {
   "cell_type": "markdown",
   "metadata": {},
   "source": [
    "## Model Performance Comparison\n",
    "\n",
    "| Model | Accuracy | Weighted F1-Score | Ham Precision | Ham Recall | Spam Precision | Spam Recall |\n",
    "|-------|----------|------------------|---------------|------------|----------------|-------------|\n",
    "| Decision Tree | 96% | 0.965 | 0.98 | 0.98 | 0.89 | 0.85 |\n",
    "| Logistic Regression | 98% | 0.98 | 0.98 | 1 | 0.97 | 0.89 |\n",
    "| SVM | 99% | 0.99 | 0.99 | 1 | 0.99 | 0.91 |\n",
    "| Random Forest | 98% | 0.98 | 0.98 | 1 | 0.99 | 0.88 |\n",
    "\n",
    "- All models show strong performance with accuracy and F1-scores between 96-99%.\n",
    "- The Logistic Regression, SVM and Random Forest models performed marginally better than the Decision Tree classifier.\n",
    "- For spam detection specifically, the models show high precision (89-92%) and good recall (85-87%) on spam messages.\n",
    "- They also maintained excellent performance on ham messages with both precision and recall around 98-99%.\n",
    "\n",
    "##### But, if I have to choose one, I think the `Support Vector Machine` will be the best choice as it outperforms others for all the metrics.\n"
   ]
  }
 ],
 "metadata": {
  "kernelspec": {
   "display_name": "venv",
   "language": "python",
   "name": "python3"
  },
  "language_info": {
   "codemirror_mode": {
    "name": "ipython",
    "version": 3
   },
   "file_extension": ".py",
   "mimetype": "text/x-python",
   "name": "python",
   "nbconvert_exporter": "python",
   "pygments_lexer": "ipython3",
   "version": "3.10.11"
  }
 },
 "nbformat": 4,
 "nbformat_minor": 2
}
