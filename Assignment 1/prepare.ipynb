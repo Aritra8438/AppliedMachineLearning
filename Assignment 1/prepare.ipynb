{
 "cells": [
  {
   "cell_type": "markdown",
   "metadata": {},
   "source": [
    "# SMS Spam Detection Analysis\n",
    "\n",
    "This notebook analyzes a SMS spam collection dataset to build a spam detection model. The dataset contains text messages labeled as either spam or ham (non-spam).\n",
    "\n",
    "#### Data Overview\n",
    "- Dataset contains SMS messages with two columns: category (spam/ham) and message text\n",
    "- Messages are preprocessed by:\n",
    "    - Converting to lowercase\n",
    "    - Removing stopwords and punctuation\n",
    "    - Tokenizing the text\n",
    "    - Retaining only alphanumeric words\n",
    "\n",
    "#### Dataset Split\n",
    "- Training set: 70% of data\n",
    "- Validation set: 10% of data\n",
    "- Test set: 20% of data\n",
    "\n",
    "#### Exploratory Analysis\n",
    "- Distribution of spam vs ham messages shown in pie chart\n",
    "- Most frequent words visualized separately for spam and ham messages\n",
    "\n",
    "#### File Structure\n",
    "- Original data: SMSSpamCollection\n",
    "- Processed splits saved as:\n",
    "    - train_data.csv\n",
    "    - val_data.csv \n",
    "    - test_data.csv"
   ]
  },
  {
   "cell_type": "markdown",
   "metadata": {},
   "source": [
    "### Importing necessary libraries "
   ]
  },
  {
   "cell_type": "code",
   "execution_count": 5,
   "metadata": {},
   "outputs": [],
   "source": [
    "import nltk\n",
    "from nltk.corpus import stopwords\n",
    "import string\n",
    "import pandas as pd\n",
    "import matplotlib.pyplot as plt\n",
    "from sklearn.model_selection import train_test_split\n",
    "import csv\n",
    "\n",
    "import warnings\n",
    "warnings.filterwarnings(\"ignore\")"
   ]
  },
  {
   "cell_type": "code",
   "execution_count": 6,
   "metadata": {},
   "outputs": [
    {
     "name": "stderr",
     "output_type": "stream",
     "text": [
      "[nltk_data] Downloading package stopwords to C:\\Users\\Aritra\n",
      "[nltk_data]     Majumder\\AppData\\Roaming\\nltk_data...\n",
      "[nltk_data]   Package stopwords is already up-to-date!\n"
     ]
    },
    {
     "data": {
      "text/plain": [
       "True"
      ]
     },
     "execution_count": 6,
     "metadata": {},
     "output_type": "execute_result"
    }
   ],
   "source": [
    "nltk.download('stopwords')"
   ]
  },
  {
   "cell_type": "markdown",
   "metadata": {},
   "source": [
    "### Reading the data"
   ]
  },
  {
   "cell_type": "code",
   "execution_count": 7,
   "metadata": {},
   "outputs": [],
   "source": [
    "def read_data(file_path, names, sep='\\t'):\n",
    "    \"\"\"\n",
    "    Read data from a file into a pandas DataFrame.\n",
    "    \n",
    "    Parameters:\n",
    "        file_path (str): Path to the data file\n",
    "        sep (str): Separator used in the file (default: '\\t')\n",
    "        column_names (list): List of column names (default: ['category', 'message'])\n",
    "    \n",
    "    Returns:\n",
    "        pandas.DataFrame: DataFrame containing the SMS data\n",
    "    \"\"\"\n",
    "        \n",
    "    data = pd.read_csv(\n",
    "        file_path,\n",
    "        sep=sep,\n",
    "        names=names\n",
    "    )\n",
    "    \n",
    "    return data"
   ]
  },
  {
   "cell_type": "code",
   "execution_count": 8,
   "metadata": {},
   "outputs": [
    {
     "data": {
      "text/html": [
       "<div>\n",
       "<style scoped>\n",
       "    .dataframe tbody tr th:only-of-type {\n",
       "        vertical-align: middle;\n",
       "    }\n",
       "\n",
       "    .dataframe tbody tr th {\n",
       "        vertical-align: top;\n",
       "    }\n",
       "\n",
       "    .dataframe thead th {\n",
       "        text-align: right;\n",
       "    }\n",
       "</style>\n",
       "<table border=\"1\" class=\"dataframe\">\n",
       "  <thead>\n",
       "    <tr style=\"text-align: right;\">\n",
       "      <th></th>\n",
       "      <th>category</th>\n",
       "      <th>message</th>\n",
       "    </tr>\n",
       "  </thead>\n",
       "  <tbody>\n",
       "    <tr>\n",
       "      <th>0</th>\n",
       "      <td>ham</td>\n",
       "      <td>Go until jurong point, crazy.. Available only ...</td>\n",
       "    </tr>\n",
       "    <tr>\n",
       "      <th>1</th>\n",
       "      <td>ham</td>\n",
       "      <td>Ok lar... Joking wif u oni...</td>\n",
       "    </tr>\n",
       "    <tr>\n",
       "      <th>2</th>\n",
       "      <td>spam</td>\n",
       "      <td>Free entry in 2 a wkly comp to win FA Cup fina...</td>\n",
       "    </tr>\n",
       "    <tr>\n",
       "      <th>3</th>\n",
       "      <td>ham</td>\n",
       "      <td>U dun say so early hor... U c already then say...</td>\n",
       "    </tr>\n",
       "    <tr>\n",
       "      <th>4</th>\n",
       "      <td>ham</td>\n",
       "      <td>Nah I don't think he goes to usf, he lives aro...</td>\n",
       "    </tr>\n",
       "    <tr>\n",
       "      <th>...</th>\n",
       "      <td>...</td>\n",
       "      <td>...</td>\n",
       "    </tr>\n",
       "    <tr>\n",
       "      <th>5567</th>\n",
       "      <td>spam</td>\n",
       "      <td>This is the 2nd time we have tried 2 contact u...</td>\n",
       "    </tr>\n",
       "    <tr>\n",
       "      <th>5568</th>\n",
       "      <td>ham</td>\n",
       "      <td>Will ü b going to esplanade fr home?</td>\n",
       "    </tr>\n",
       "    <tr>\n",
       "      <th>5569</th>\n",
       "      <td>ham</td>\n",
       "      <td>Pity, * was in mood for that. So...any other s...</td>\n",
       "    </tr>\n",
       "    <tr>\n",
       "      <th>5570</th>\n",
       "      <td>ham</td>\n",
       "      <td>The guy did some bitching but I acted like i'd...</td>\n",
       "    </tr>\n",
       "    <tr>\n",
       "      <th>5571</th>\n",
       "      <td>ham</td>\n",
       "      <td>Rofl. Its true to its name</td>\n",
       "    </tr>\n",
       "  </tbody>\n",
       "</table>\n",
       "<p>5572 rows × 2 columns</p>\n",
       "</div>"
      ],
      "text/plain": [
       "     category                                            message\n",
       "0         ham  Go until jurong point, crazy.. Available only ...\n",
       "1         ham                      Ok lar... Joking wif u oni...\n",
       "2        spam  Free entry in 2 a wkly comp to win FA Cup fina...\n",
       "3         ham  U dun say so early hor... U c already then say...\n",
       "4         ham  Nah I don't think he goes to usf, he lives aro...\n",
       "...       ...                                                ...\n",
       "5567     spam  This is the 2nd time we have tried 2 contact u...\n",
       "5568      ham               Will ü b going to esplanade fr home?\n",
       "5569      ham  Pity, * was in mood for that. So...any other s...\n",
       "5570      ham  The guy did some bitching but I acted like i'd...\n",
       "5571      ham                         Rofl. Its true to its name\n",
       "\n",
       "[5572 rows x 2 columns]"
      ]
     },
     "execution_count": 8,
     "metadata": {},
     "output_type": "execute_result"
    }
   ],
   "source": [
    "\n",
    "data = read_data('sms-spam-collection/SMSSpamCollection', names=['category', 'message'])\n",
    "data"
   ]
  },
  {
   "cell_type": "markdown",
   "metadata": {},
   "source": [
    "### Visualization of `Class imbalance`"
   ]
  },
  {
   "cell_type": "code",
   "execution_count": 9,
   "metadata": {},
   "outputs": [
    {
     "data": {
      "image/png": "[encoded data removed]",
      "text/plain": [
       "<Figure size 600x600 with 1 Axes>"
      ]
     },
     "metadata": {},
     "output_type": "display_data"
    }
   ],
   "source": [
    "data[\"category\"].value_counts().plot(kind = 'pie', explode = [0, 0.1], figsize = (6, 6), autopct = '%1.1f%%', shadow = True)\n",
    "plt.ylabel(\"Spam vs Ham\")\n",
    "plt.legend([\"Ham\", \"Spam\"])\n",
    "plt.show()"
   ]
  },
  {
   "cell_type": "markdown",
   "metadata": {},
   "source": [
    "### Data preprocessing"
   ]
  },
  {
   "cell_type": "code",
   "execution_count": 10,
   "metadata": {},
   "outputs": [],
   "source": [
    "def process_text(text):\n",
    "    text = text.lower()\n",
    "    words = nltk.word_tokenize(text)\n",
    "\n",
    "    processed_text = [\n",
    "        word for word in words \n",
    "        if (word.isalnum() \n",
    "            and word not in stopwords.words('english') \n",
    "            and word not in string.punctuation)\n",
    "    ]\n",
    "    \n",
    "    return ' '.join(processed_text)\n",
    "\n",
    "data['processed_message'] = data['message'].map(process_text)"
   ]
  },
  {
   "cell_type": "code",
   "execution_count": 11,
   "metadata": {},
   "outputs": [],
   "source": [
    "def show_random_subset(df, size):\n",
    "    \"\"\"\n",
    "    Returns a random subset of the given DataFrame with specified size.\n",
    "        \n",
    "    Parameters:\n",
    "        df (pandas.DataFrame): Input DataFrame to sample from\n",
    "        size (int): Number of samples to return\n",
    "            \n",
    "    Returns:\n",
    "        pandas.DataFrame: Random subset of original DataFrame with size rows\n",
    "    \"\"\"\n",
    "    size = min(size, len(df))\n",
    "    \n",
    "    random_subset = df.sample(n=size, random_state=42)\n",
    "    \n",
    "    return random_subset.reset_index(drop=True)"
   ]
  },
  {
   "cell_type": "code",
   "execution_count": 12,
   "metadata": {},
   "outputs": [
    {
     "data": {
      "text/html": [
       "<div>\n",
       "<style scoped>\n",
       "    .dataframe tbody tr th:only-of-type {\n",
       "        vertical-align: middle;\n",
       "    }\n",
       "\n",
       "    .dataframe tbody tr th {\n",
       "        vertical-align: top;\n",
       "    }\n",
       "\n",
       "    .dataframe thead th {\n",
       "        text-align: right;\n",
       "    }\n",
       "</style>\n",
       "<table border=\"1\" class=\"dataframe\">\n",
       "  <thead>\n",
       "    <tr style=\"text-align: right;\">\n",
       "      <th></th>\n",
       "      <th>category</th>\n",
       "      <th>processed_message</th>\n",
       "    </tr>\n",
       "  </thead>\n",
       "  <tbody>\n",
       "    <tr>\n",
       "      <th>0</th>\n",
       "      <td>ham</td>\n",
       "      <td>squeeeeeze christmas hug u lik frndshp den hug...</td>\n",
       "    </tr>\n",
       "    <tr>\n",
       "      <th>1</th>\n",
       "      <td>ham</td>\n",
       "      <td>also sorta blown couple times recently id rath...</td>\n",
       "    </tr>\n",
       "    <tr>\n",
       "      <th>2</th>\n",
       "      <td>ham</td>\n",
       "      <td>mmm thats better got roast b better drinks 2 g...</td>\n",
       "    </tr>\n",
       "    <tr>\n",
       "      <th>3</th>\n",
       "      <td>ham</td>\n",
       "      <td>mm kanji dont eat anything heavy ok</td>\n",
       "    </tr>\n",
       "    <tr>\n",
       "      <th>4</th>\n",
       "      <td>ham</td>\n",
       "      <td>ring comes guys costumes gift future yowifes h...</td>\n",
       "    </tr>\n",
       "    <tr>\n",
       "      <th>5</th>\n",
       "      <td>ham</td>\n",
       "      <td>sary need tim bollox hurt lot tol</td>\n",
       "    </tr>\n",
       "    <tr>\n",
       "      <th>6</th>\n",
       "      <td>ham</td>\n",
       "      <td>love decision feeling could decide love life w...</td>\n",
       "    </tr>\n",
       "    <tr>\n",
       "      <th>7</th>\n",
       "      <td>ham</td>\n",
       "      <td>supervisor find 4 one lor thk students havent ...</td>\n",
       "    </tr>\n",
       "    <tr>\n",
       "      <th>8</th>\n",
       "      <td>ham</td>\n",
       "      <td>dear good morning</td>\n",
       "    </tr>\n",
       "    <tr>\n",
       "      <th>9</th>\n",
       "      <td>ham</td>\n",
       "      <td>chennai velachery</td>\n",
       "    </tr>\n",
       "  </tbody>\n",
       "</table>\n",
       "</div>"
      ],
      "text/plain": [
       "  category                                  processed_message\n",
       "0      ham  squeeeeeze christmas hug u lik frndshp den hug...\n",
       "1      ham  also sorta blown couple times recently id rath...\n",
       "2      ham  mmm thats better got roast b better drinks 2 g...\n",
       "3      ham                mm kanji dont eat anything heavy ok\n",
       "4      ham  ring comes guys costumes gift future yowifes h...\n",
       "5      ham                  sary need tim bollox hurt lot tol\n",
       "6      ham  love decision feeling could decide love life w...\n",
       "7      ham  supervisor find 4 one lor thk students havent ...\n",
       "8      ham                                  dear good morning\n",
       "9      ham                                  chennai velachery"
      ]
     },
     "execution_count": 12,
     "metadata": {},
     "output_type": "execute_result"
    }
   ],
   "source": [
    "data = data.drop(columns=['message'])\n",
    "show_random_subset(data, 10)"
   ]
  },
  {
   "cell_type": "markdown",
   "metadata": {},
   "source": [
    "### Splitting the `dataset`"
   ]
  },
  {
   "cell_type": "code",
   "execution_count": 13,
   "metadata": {},
   "outputs": [
    {
     "name": "stdout",
     "output_type": "stream",
     "text": [
      "Training data: 3900 samples (70.0%)\n",
      "Validation data: 557 samples (10.0%)\n",
      "Test data: 1115 samples (20.0%)\n"
     ]
    }
   ],
   "source": [
    "def split_data(data, train_pct=0.7, val_pct=0.1, test_pct=0.2, random_state=42):\n",
    "    \"\"\"\n",
    "    Split data into train, validation and test sets based on percentage inputs\n",
    "    \n",
    "    Parameters:\n",
    "        data (DataFrame): Input DataFrame to split\n",
    "        train_pct (float): Percentage of data for training (default 0.7)\n",
    "        val_pct (float): Percentage of data for validation (default 0.1)\n",
    "        test_pct (float): Percentage of data for testing (default 0.2)\n",
    "        random_state (int): Random seed for reproducibility\n",
    "        \n",
    "    Returns:\n",
    "        tuple: (train_data, val_data, test_data)\n",
    "    \"\"\"\n",
    "    assert round(train_pct + val_pct + test_pct, 3) == 1.0, \"Percentages must sum to 1\"\n",
    "    \n",
    "    train_data, temp_data = train_test_split(\n",
    "        data, \n",
    "        train_size=train_pct,\n",
    "        random_state=random_state,\n",
    "        stratify=data['category']\n",
    "    )\n",
    "    \n",
    "    val_ratio = val_pct / (val_pct + test_pct)\n",
    "    val_data, test_data = train_test_split(\n",
    "        temp_data,\n",
    "        train_size=val_ratio,\n",
    "        random_state=random_state,\n",
    "        stratify=temp_data['category']\n",
    "    )\n",
    "    \n",
    "    print(f\"Training data: {len(train_data)} samples ({train_pct*100:.1f}%)\")\n",
    "    print(f\"Validation data: {len(val_data)} samples ({val_pct*100:.1f}%)\")\n",
    "    print(f\"Test data: {len(test_data)} samples ({test_pct*100:.1f}%)\")\n",
    "    \n",
    "    return train_data, val_data, test_data\n",
    "\n",
    "train_data, val_data, test_data = split_data(data)"
   ]
  },
  {
   "cell_type": "markdown",
   "metadata": {},
   "source": [
    "### Visualizing the most frequent words for both the classes"
   ]
  },
  {
   "cell_type": "code",
   "execution_count": 14,
   "metadata": {},
   "outputs": [
    {
     "data": {
      "image/png": "[encoded data removed]",
      "text/plain": [
       "<Figure size 1200x800 with 2 Axes>"
      ]
     },
     "metadata": {},
     "output_type": "display_data"
    }
   ],
   "source": [
    "from collections import Counter\n",
    "import numpy as np\n",
    "\n",
    "spam_messages = ' '.join(data[data['category'] == 'spam']['processed_message'])\n",
    "ham_messages = ' '.join(data[data['category'] == 'ham']['processed_message'])\n",
    "\n",
    "def filter_words(text):\n",
    "    return ' '.join([word for word in text.split() if not word.isnumeric() and len(word) > 1])\n",
    "\n",
    "spam_messages = filter_words(spam_messages)\n",
    "ham_messages = filter_words(ham_messages)\n",
    "\n",
    "spam_words = Counter(spam_messages.split()).most_common(10)\n",
    "ham_words = Counter(ham_messages.split()).most_common(10)\n",
    "\n",
    "fig, (ax1, ax2) = plt.subplots(2, 1, figsize=(12, 8))\n",
    "\n",
    "words, counts = zip(*spam_words)\n",
    "ax1.barh(words, counts, color='red', alpha=0.6)\n",
    "ax1.set_title('Most Common Words in Spam Messages')\n",
    "ax1.set_xlabel('Frequency')\n",
    "\n",
    "words, counts = zip(*ham_words)\n",
    "ax2.barh(words, counts, color='blue', alpha=0.6)\n",
    "ax2.set_title('Most Common Words in Ham Messages')\n",
    "ax2.set_xlabel('Frequency')\n",
    "\n",
    "plt.tight_layout()\n",
    "plt.show()"
   ]
  },
  {
   "cell_type": "markdown",
   "metadata": {},
   "source": [
    "### Saving the data for further processing"
   ]
  },
  {
   "cell_type": "code",
   "execution_count": 15,
   "metadata": {},
   "outputs": [],
   "source": [
    "def save_data(df, path):\n",
    "    \"\"\"\n",
    "    Save DataFrame to CSV file.\n",
    "    \n",
    "    Parameters:\n",
    "        df (DataFrame): Data to save\n",
    "        path (str): File path where data will be saved\n",
    "    \"\"\"\n",
    "    try:\n",
    "        df.to_csv(path, index=False)\n",
    "        print(f\"Successfully saved {path}\")\n",
    "    except Exception as e:\n",
    "        print(f\"Error saving file {path}: {str(e)}\")"
   ]
  },
  {
   "cell_type": "code",
   "execution_count": 16,
   "metadata": {},
   "outputs": [
    {
     "name": "stdout",
     "output_type": "stream",
     "text": [
      "Successfully saved sms-spam-collection/train_data.csv\n",
      "Successfully saved sms-spam-collection/val_data.csv\n",
      "Successfully saved sms-spam-collection/test_data.csv\n"
     ]
    }
   ],
   "source": [
    "save_data(train_data, 'sms-spam-collection/train_data.csv')\n",
    "save_data(val_data, 'sms-spam-collection/val_data.csv')\n",
    "save_data(test_data, 'sms-spam-collection/test_data.csv')"
   ]
  }
 ],
 "metadata": {
  "kernelspec": {
   "display_name": "venv",
   "language": "python",
   "name": "python3"
  },
  "language_info": {
   "codemirror_mode": {
    "name": "ipython",
    "version": 3
   },
   "file_extension": ".py",
   "mimetype": "text/x-python",
   "name": "python",
   "nbconvert_exporter": "python",
   "pygments_lexer": "ipython3",
   "version": "3.10.11"
  }
 },
 "nbformat": 4,
 "nbformat_minor": 2
}
